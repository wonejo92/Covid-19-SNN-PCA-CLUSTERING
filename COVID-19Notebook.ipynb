{
 "cells": [
  {
   "cell_type": "markdown",
   "metadata": {
    "colab_type": "text",
    "id": "nQ19MD1pDv0d"
   },
   "source": [
    "\n",
    "\n",
    "> Investigacion sobre salud(Covid-19) (Clasificacion)\n",
    "\n"
   ]
  },
  {
   "cell_type": "code",
   "execution_count": null,
   "metadata": {
    "colab": {
     "base_uri": "https://localhost:8080/",
     "height": 35
    },
    "colab_type": "code",
    "id": "nxsYT-gE0YHq",
    "outputId": "213c3cea-19c2-4ad7-b116-6fd567dce199"
   },
   "outputs": [
    {
     "name": "stdout",
     "output_type": "stream",
     "text": [
      "Librerias Importadas\n"
     ]
    }
   ],
   "source": [
    "#Importacion de librerias.\n",
    "import pandas as pd  \n",
    "import numpy as np  \n",
    "import matplotlib.pyplot as plt  \n",
    "%matplotlib inline\n",
    "from sklearn.preprocessing import OneHotEncoder, StandardScaler\n",
    "from sklearn.compose import make_column_transformer, ColumnTransformer\n",
    "from sklearn.pipeline import Pipeline\n",
    "print('Librerias Importadas')"
   ]
  },
  {
   "cell_type": "code",
   "execution_count": null,
   "metadata": {
    "colab": {
     "base_uri": "https://localhost:8080/",
     "height": 297
    },
    "colab_type": "code",
    "id": "Z54ve8K_0vik",
    "outputId": "3835b2ca-6f66-40a1-b5b3-89408c99da1b"
   },
   "outputs": [
    {
     "name": "stdout",
     "output_type": "stream",
     "text": [
      "18\n"
     ]
    },
    {
     "data": {
      "text/html": [
       "<div>\n",
       "<style scoped>\n",
       "    .dataframe tbody tr th:only-of-type {\n",
       "        vertical-align: middle;\n",
       "    }\n",
       "\n",
       "    .dataframe tbody tr th {\n",
       "        vertical-align: top;\n",
       "    }\n",
       "\n",
       "    .dataframe thead th {\n",
       "        text-align: right;\n",
       "    }\n",
       "</style>\n",
       "<table border=\"1\" class=\"dataframe\">\n",
       "  <thead>\n",
       "    <tr style=\"text-align: right;\">\n",
       "      <th></th>\n",
       "      <th>Number</th>\n",
       "      <th>Age</th>\n",
       "      <th>Gender</th>\n",
       "      <th>Fever</th>\n",
       "      <th>Dyspnea</th>\n",
       "      <th>Nasal</th>\n",
       "      <th>Cough</th>\n",
       "      <th>PO2</th>\n",
       "      <th>CRP</th>\n",
       "      <th>AstheniaE</th>\n",
       "      <th>Leukopenia</th>\n",
       "      <th>Exposure to Covid-19 patients</th>\n",
       "      <th>High risk zone</th>\n",
       "      <th>Temp</th>\n",
       "      <th>Blood Test</th>\n",
       "      <th>RT-PCR</th>\n",
       "      <th>History</th>\n",
       "      <th>Decisionlabel</th>\n",
       "    </tr>\n",
       "  </thead>\n",
       "  <tbody>\n",
       "    <tr>\n",
       "      <th>0</th>\n",
       "      <td>1</td>\n",
       "      <td>80</td>\n",
       "      <td>Male</td>\n",
       "      <td>Yes</td>\n",
       "      <td>Yes</td>\n",
       "      <td>Yes</td>\n",
       "      <td>*</td>\n",
       "      <td>*</td>\n",
       "      <td>*</td>\n",
       "      <td>*</td>\n",
       "      <td>*</td>\n",
       "      <td>*</td>\n",
       "      <td>*</td>\n",
       "      <td>*</td>\n",
       "      <td>*</td>\n",
       "      <td>*</td>\n",
       "      <td>*</td>\n",
       "      <td>COVID-19</td>\n",
       "    </tr>\n",
       "    <tr>\n",
       "      <th>1</th>\n",
       "      <td>2</td>\n",
       "      <td>62</td>\n",
       "      <td>Male</td>\n",
       "      <td>Yes</td>\n",
       "      <td>*</td>\n",
       "      <td>Yes</td>\n",
       "      <td>Yes</td>\n",
       "      <td>97</td>\n",
       "      <td>0.75</td>\n",
       "      <td>Yes</td>\n",
       "      <td>*</td>\n",
       "      <td>*</td>\n",
       "      <td>*</td>\n",
       "      <td>*</td>\n",
       "      <td>*</td>\n",
       "      <td>*</td>\n",
       "      <td>*</td>\n",
       "      <td>COVID-19</td>\n",
       "    </tr>\n",
       "    <tr>\n",
       "      <th>2</th>\n",
       "      <td>3</td>\n",
       "      <td>57</td>\n",
       "      <td>Male</td>\n",
       "      <td>Yes</td>\n",
       "      <td>*</td>\n",
       "      <td>Yes</td>\n",
       "      <td>Yes</td>\n",
       "      <td>*</td>\n",
       "      <td>*</td>\n",
       "      <td>*</td>\n",
       "      <td>*</td>\n",
       "      <td>Yes</td>\n",
       "      <td>*</td>\n",
       "      <td>*</td>\n",
       "      <td>*</td>\n",
       "      <td>*</td>\n",
       "      <td>*</td>\n",
       "      <td>COVID-19</td>\n",
       "    </tr>\n",
       "    <tr>\n",
       "      <th>3</th>\n",
       "      <td>4</td>\n",
       "      <td>45</td>\n",
       "      <td>Male</td>\n",
       "      <td>Yes</td>\n",
       "      <td>*</td>\n",
       "      <td>Yes</td>\n",
       "      <td>Yes</td>\n",
       "      <td>*</td>\n",
       "      <td>*</td>\n",
       "      <td>*</td>\n",
       "      <td>Yes</td>\n",
       "      <td>Yes</td>\n",
       "      <td>*</td>\n",
       "      <td>*</td>\n",
       "      <td>*</td>\n",
       "      <td>*</td>\n",
       "      <td>*</td>\n",
       "      <td>COVID-19</td>\n",
       "    </tr>\n",
       "    <tr>\n",
       "      <th>4</th>\n",
       "      <td>5</td>\n",
       "      <td>63</td>\n",
       "      <td>Male</td>\n",
       "      <td>Yes</td>\n",
       "      <td>*</td>\n",
       "      <td>Yes</td>\n",
       "      <td>Yes</td>\n",
       "      <td>*</td>\n",
       "      <td>*</td>\n",
       "      <td>*</td>\n",
       "      <td>Yes</td>\n",
       "      <td>Yes</td>\n",
       "      <td>*</td>\n",
       "      <td>*</td>\n",
       "      <td>*</td>\n",
       "      <td>*</td>\n",
       "      <td>*</td>\n",
       "      <td>COVID-19</td>\n",
       "    </tr>\n",
       "  </tbody>\n",
       "</table>\n",
       "</div>"
      ],
      "text/plain": [
       "   Number Age Gender Fever Dyspnea  ... Temp Blood Test RT-PCR History Decisionlabel\n",
       "0       1  80   Male   Yes     Yes  ...    *          *      *       *      COVID-19\n",
       "1       2  62   Male   Yes       *  ...    *          *      *       *      COVID-19\n",
       "2       3  57   Male   Yes       *  ...    *          *      *       *      COVID-19\n",
       "3       4  45   Male   Yes       *  ...    *          *      *       *      COVID-19\n",
       "4       5  63   Male   Yes       *  ...    *          *      *       *      COVID-19\n",
       "\n",
       "[5 rows x 18 columns]"
      ]
     },
     "execution_count": 2,
     "metadata": {
      "tags": []
     },
     "output_type": "execute_result"
    }
   ],
   "source": [
    "dataset = pd.read_csv('/content/2.COVID19_clasificacionnn.csv')  \n",
    "print(dataset.shape[1]) \n",
    "dataset.head()"
   ]
  },
  {
   "cell_type": "markdown",
   "metadata": {
    "colab_type": "text",
    "id": "Cq1Z69PaDoYC"
   },
   "source": [
    "\n",
    "\n",
    "> Limpieza de dataset\n",
    "\n"
   ]
  },
  {
   "cell_type": "code",
   "execution_count": null,
   "metadata": {
    "colab": {},
    "colab_type": "code",
    "id": "gtlVIzeG01ir"
   },
   "outputs": [],
   "source": [
    "Age=dataset['Age'].replace(['*', ], '0')\n",
    "Gender=dataset['Gender'].replace(['*', ], 'Undefined')\n",
    "Fever=dataset['Fever'].replace(['*', ], '')\n",
    "Dyspnea=dataset['Dyspnea'].replace(['*', ], '0')\n",
    "Cough=dataset['Cough'].replace(['*', ], '0')\n",
    "PO2=dataset['PO2'].replace(['*', ], '0')\n",
    "CRP=dataset['CRP'].replace(['*', ], '0')\n",
    "Leukopenia=dataset['Leukopenia'].replace(['*', ], '0')\n",
    "ExposuretoCovid19patients=dataset['Exposure to Covid-19 patients'].replace(['*', ], '0')\n",
    "Highriskzone=dataset['High risk zone'].replace(['*', ], '0')\n",
    "Temp=dataset['Temp'].replace(['*', ], '0')\n",
    "BloodTest=dataset['Blood Test'].replace(['*', ], '0')\n",
    "RTPCR=dataset['RT-PCR'].replace(['*', ], '0')\n",
    "History=dataset['History'].replace(['*', ], '0')\n",
    "Decision_label=dataset['Decisionlabel']"
   ]
  },
  {
   "cell_type": "code",
   "execution_count": null,
   "metadata": {
    "colab": {
     "base_uri": "https://localhost:8080/",
     "height": 274
    },
    "colab_type": "code",
    "id": "NfhAkTLV038t",
    "outputId": "5db16130-f860-4094-d7a0-04fdfb48d27f"
   },
   "outputs": [
    {
     "name": "stdout",
     "output_type": "stream",
     "text": [
      "    Age  Gender Fever Dyspnea  ... Blood Test RT-PCR History Decisionlabel\n",
      "0    80    Male   Yes     Yes  ...          0      0       0      COVID-19\n",
      "1    62    Male   Yes       0  ...          0      0       0      COVID-19\n",
      "2    57    Male   Yes       0  ...          0      0       0      COVID-19\n",
      "3    45    Male   Yes       0  ...          0      0       0      COVID-19\n",
      "4    63    Male   Yes       0  ...          0      0       0      COVID-19\n",
      "..   ..     ...   ...     ...  ...        ...    ...     ...           ...\n",
      "125  62  Female    No       0  ...          0      0       0           Flu\n",
      "126  63    Male   Yes       0  ...          0      0       0           Flu\n",
      "127  63  Female   Yes       0  ...          0      0       0           Flu\n",
      "128  40  Female    No       0  ...          0      0       0           Flu\n",
      "129  78  Female    No       0  ...          0      0       0           Flu\n",
      "\n",
      "[130 rows x 15 columns]\n"
     ]
    }
   ],
   "source": [
    "dataF=pd.concat([Age,Gender,Fever,Dyspnea,Cough,PO2,CRP,Leukopenia,ExposuretoCovid19patients,Highriskzone\n",
    ",Temp,BloodTest,RTPCR,History,Decision_label], axis=1)\n",
    "print(dataF)"
   ]
  },
  {
   "cell_type": "code",
   "execution_count": null,
   "metadata": {
    "colab": {
     "base_uri": "https://localhost:8080/",
     "height": 514
    },
    "colab_type": "code",
    "id": "0AcM7vtw06PE",
    "outputId": "bd50f5a2-69ed-4fa1-8d18-9a5cf62ab597"
   },
   "outputs": [
    {
     "name": "stdout",
     "output_type": "stream",
     "text": [
      "Limpiando Ruido:\n"
     ]
    },
    {
     "data": {
      "text/html": [
       "<div>\n",
       "<style scoped>\n",
       "    .dataframe tbody tr th:only-of-type {\n",
       "        vertical-align: middle;\n",
       "    }\n",
       "\n",
       "    .dataframe tbody tr th {\n",
       "        vertical-align: top;\n",
       "    }\n",
       "\n",
       "    .dataframe thead th {\n",
       "        text-align: right;\n",
       "    }\n",
       "</style>\n",
       "<table border=\"1\" class=\"dataframe\">\n",
       "  <thead>\n",
       "    <tr style=\"text-align: right;\">\n",
       "      <th></th>\n",
       "      <th>Age</th>\n",
       "      <th>Gender</th>\n",
       "      <th>Fever</th>\n",
       "      <th>Dyspnea</th>\n",
       "      <th>Cough</th>\n",
       "      <th>PO2</th>\n",
       "      <th>CRP</th>\n",
       "      <th>Leukopenia</th>\n",
       "      <th>Exposure to Covid-19 patients</th>\n",
       "      <th>High risk zone</th>\n",
       "      <th>Temp</th>\n",
       "      <th>Blood Test</th>\n",
       "      <th>RT-PCR</th>\n",
       "      <th>History</th>\n",
       "      <th>Decisionlabel</th>\n",
       "    </tr>\n",
       "  </thead>\n",
       "  <tbody>\n",
       "    <tr>\n",
       "      <th>0</th>\n",
       "      <td>80</td>\n",
       "      <td>Male</td>\n",
       "      <td>Yes</td>\n",
       "      <td>Yes</td>\n",
       "      <td>0</td>\n",
       "      <td>0</td>\n",
       "      <td>0</td>\n",
       "      <td>0</td>\n",
       "      <td>0</td>\n",
       "      <td>0</td>\n",
       "      <td>0</td>\n",
       "      <td>0</td>\n",
       "      <td>0</td>\n",
       "      <td>0</td>\n",
       "      <td>COVID-19</td>\n",
       "    </tr>\n",
       "    <tr>\n",
       "      <th>1</th>\n",
       "      <td>62</td>\n",
       "      <td>Male</td>\n",
       "      <td>Yes</td>\n",
       "      <td>0</td>\n",
       "      <td>Yes</td>\n",
       "      <td>97</td>\n",
       "      <td>0.75</td>\n",
       "      <td>0</td>\n",
       "      <td>0</td>\n",
       "      <td>0</td>\n",
       "      <td>0</td>\n",
       "      <td>0</td>\n",
       "      <td>0</td>\n",
       "      <td>0</td>\n",
       "      <td>COVID-19</td>\n",
       "    </tr>\n",
       "    <tr>\n",
       "      <th>2</th>\n",
       "      <td>57</td>\n",
       "      <td>Male</td>\n",
       "      <td>Yes</td>\n",
       "      <td>0</td>\n",
       "      <td>Yes</td>\n",
       "      <td>0</td>\n",
       "      <td>0</td>\n",
       "      <td>0</td>\n",
       "      <td>Yes</td>\n",
       "      <td>0</td>\n",
       "      <td>0</td>\n",
       "      <td>0</td>\n",
       "      <td>0</td>\n",
       "      <td>0</td>\n",
       "      <td>COVID-19</td>\n",
       "    </tr>\n",
       "    <tr>\n",
       "      <th>3</th>\n",
       "      <td>45</td>\n",
       "      <td>Male</td>\n",
       "      <td>Yes</td>\n",
       "      <td>0</td>\n",
       "      <td>Yes</td>\n",
       "      <td>0</td>\n",
       "      <td>0</td>\n",
       "      <td>Yes</td>\n",
       "      <td>Yes</td>\n",
       "      <td>0</td>\n",
       "      <td>0</td>\n",
       "      <td>0</td>\n",
       "      <td>0</td>\n",
       "      <td>0</td>\n",
       "      <td>COVID-19</td>\n",
       "    </tr>\n",
       "    <tr>\n",
       "      <th>4</th>\n",
       "      <td>63</td>\n",
       "      <td>Male</td>\n",
       "      <td>Yes</td>\n",
       "      <td>0</td>\n",
       "      <td>Yes</td>\n",
       "      <td>0</td>\n",
       "      <td>0</td>\n",
       "      <td>Yes</td>\n",
       "      <td>Yes</td>\n",
       "      <td>0</td>\n",
       "      <td>0</td>\n",
       "      <td>0</td>\n",
       "      <td>0</td>\n",
       "      <td>0</td>\n",
       "      <td>COVID-19</td>\n",
       "    </tr>\n",
       "    <tr>\n",
       "      <th>...</th>\n",
       "      <td>...</td>\n",
       "      <td>...</td>\n",
       "      <td>...</td>\n",
       "      <td>...</td>\n",
       "      <td>...</td>\n",
       "      <td>...</td>\n",
       "      <td>...</td>\n",
       "      <td>...</td>\n",
       "      <td>...</td>\n",
       "      <td>...</td>\n",
       "      <td>...</td>\n",
       "      <td>...</td>\n",
       "      <td>...</td>\n",
       "      <td>...</td>\n",
       "      <td>...</td>\n",
       "    </tr>\n",
       "    <tr>\n",
       "      <th>125</th>\n",
       "      <td>62</td>\n",
       "      <td>Female</td>\n",
       "      <td>No</td>\n",
       "      <td>0</td>\n",
       "      <td>Yes</td>\n",
       "      <td>0</td>\n",
       "      <td>0</td>\n",
       "      <td>0</td>\n",
       "      <td>No</td>\n",
       "      <td>Yes</td>\n",
       "      <td>38.3</td>\n",
       "      <td>0</td>\n",
       "      <td>0</td>\n",
       "      <td>0</td>\n",
       "      <td>Flu</td>\n",
       "    </tr>\n",
       "    <tr>\n",
       "      <th>126</th>\n",
       "      <td>63</td>\n",
       "      <td>Male</td>\n",
       "      <td>Yes</td>\n",
       "      <td>0</td>\n",
       "      <td>Yes</td>\n",
       "      <td>0</td>\n",
       "      <td>0</td>\n",
       "      <td>0</td>\n",
       "      <td>No</td>\n",
       "      <td>Yes</td>\n",
       "      <td>38.5</td>\n",
       "      <td>0</td>\n",
       "      <td>0</td>\n",
       "      <td>0</td>\n",
       "      <td>Flu</td>\n",
       "    </tr>\n",
       "    <tr>\n",
       "      <th>127</th>\n",
       "      <td>63</td>\n",
       "      <td>Female</td>\n",
       "      <td>Yes</td>\n",
       "      <td>0</td>\n",
       "      <td>Yes</td>\n",
       "      <td>0</td>\n",
       "      <td>0</td>\n",
       "      <td>0</td>\n",
       "      <td>No</td>\n",
       "      <td>Yes</td>\n",
       "      <td>39.3</td>\n",
       "      <td>0</td>\n",
       "      <td>0</td>\n",
       "      <td>0</td>\n",
       "      <td>Flu</td>\n",
       "    </tr>\n",
       "    <tr>\n",
       "      <th>128</th>\n",
       "      <td>40</td>\n",
       "      <td>Female</td>\n",
       "      <td>No</td>\n",
       "      <td>0</td>\n",
       "      <td>No</td>\n",
       "      <td>0</td>\n",
       "      <td>0</td>\n",
       "      <td>0</td>\n",
       "      <td>No</td>\n",
       "      <td>Yes</td>\n",
       "      <td>0</td>\n",
       "      <td>0</td>\n",
       "      <td>0</td>\n",
       "      <td>0</td>\n",
       "      <td>Flu</td>\n",
       "    </tr>\n",
       "    <tr>\n",
       "      <th>129</th>\n",
       "      <td>78</td>\n",
       "      <td>Female</td>\n",
       "      <td>No</td>\n",
       "      <td>0</td>\n",
       "      <td>No</td>\n",
       "      <td>0</td>\n",
       "      <td>0</td>\n",
       "      <td>0</td>\n",
       "      <td>No</td>\n",
       "      <td>Yes</td>\n",
       "      <td>36.7</td>\n",
       "      <td>0</td>\n",
       "      <td>0</td>\n",
       "      <td>0</td>\n",
       "      <td>Flu</td>\n",
       "    </tr>\n",
       "  </tbody>\n",
       "</table>\n",
       "<p>129 rows × 15 columns</p>\n",
       "</div>"
      ],
      "text/plain": [
       "    Age  Gender Fever Dyspnea  ... Blood Test RT-PCR History Decisionlabel\n",
       "0    80    Male   Yes     Yes  ...          0      0       0      COVID-19\n",
       "1    62    Male   Yes       0  ...          0      0       0      COVID-19\n",
       "2    57    Male   Yes       0  ...          0      0       0      COVID-19\n",
       "3    45    Male   Yes       0  ...          0      0       0      COVID-19\n",
       "4    63    Male   Yes       0  ...          0      0       0      COVID-19\n",
       "..   ..     ...   ...     ...  ...        ...    ...     ...           ...\n",
       "125  62  Female    No       0  ...          0      0       0           Flu\n",
       "126  63    Male   Yes       0  ...          0      0       0           Flu\n",
       "127  63  Female   Yes       0  ...          0      0       0           Flu\n",
       "128  40  Female    No       0  ...          0      0       0           Flu\n",
       "129  78  Female    No       0  ...          0      0       0           Flu\n",
       "\n",
       "[129 rows x 15 columns]"
      ]
     },
     "execution_count": 5,
     "metadata": {
      "tags": []
     },
     "output_type": "execute_result"
    }
   ],
   "source": [
    "print('Limpiando Ruido:')\n",
    "dataF = dataF.dropna(subset=dataF.columns)\n",
    "dataF"
   ]
  },
  {
   "cell_type": "code",
   "execution_count": null,
   "metadata": {
    "colab": {
     "base_uri": "https://localhost:8080/",
     "height": 274
    },
    "colab_type": "code",
    "id": "V8j2OaYF0_xN",
    "outputId": "50e53388-dec8-4330-b14d-f86ceb9b2edb"
   },
   "outputs": [
    {
     "name": "stdout",
     "output_type": "stream",
     "text": [
      "    Age  Gender Fever Dyspnea  ... Blood Test RT-PCR History Decisionlabel\n",
      "0    80    Male   Yes     Yes  ...          0      0       0             0\n",
      "1    62    Male   Yes       0  ...          0      0       0             0\n",
      "2    57    Male   Yes       0  ...          0      0       0             0\n",
      "3    45    Male   Yes       0  ...          0      0       0             0\n",
      "4    63    Male   Yes       0  ...          0      0       0             0\n",
      "..   ..     ...   ...     ...  ...        ...    ...     ...           ...\n",
      "125  62  Female    No       0  ...          0      0       0             1\n",
      "126  63    Male   Yes       0  ...          0      0       0             1\n",
      "127  63  Female   Yes       0  ...          0      0       0             1\n",
      "128  40  Female    No       0  ...          0      0       0             1\n",
      "129  78  Female    No       0  ...          0      0       0             1\n",
      "\n",
      "[129 rows x 15 columns]\n"
     ]
    }
   ],
   "source": [
    "#pasar la variable de salida categoricas a numericas\n",
    "from sklearn.preprocessing import LabelEncoder\n",
    "from sklearn import preprocessing\n",
    "encoder=LabelEncoder()\n",
    "#Utilizamos Encoder se utiliza si se va a convertir a numeros e importa el orden\n",
    "dataF['Decisionlabel']=encoder.fit_transform(dataF.Decisionlabel.values)\n",
    "print(dataF)"
   ]
  },
  {
   "cell_type": "markdown",
   "metadata": {
    "colab_type": "text",
    "id": "thXJoGkBDdAp"
   },
   "source": [
    "\n",
    "\n",
    "> Comportamiento de los datos por variables\n",
    "\n"
   ]
  },
  {
   "cell_type": "code",
   "execution_count": null,
   "metadata": {
    "colab": {
     "base_uri": "https://localhost:8080/",
     "height": 984
    },
    "colab_type": "code",
    "id": "HlosT-_zFT7z",
    "outputId": "4eea835d-6708-4d2e-b0da-adbcc4567056"
   },
   "outputs": [
    {
     "name": "stderr",
     "output_type": "stream",
     "text": [
      "/usr/local/lib/python3.6/dist-packages/statsmodels/tools/_testing.py:19: FutureWarning: pandas.util.testing is deprecated. Use the functions in the public API at pandas.testing instead.\n",
      "  import pandas.util.testing as tm\n"
     ]
    },
    {
     "data": {
      "image/png": "[encoded data removed]",
      "text/plain": [
       "<Figure size 900x900 with 30 Axes>"
      ]
     },
     "metadata": {
      "needs_background": "light",
      "tags": []
     },
     "output_type": "display_data"
    }
   ],
   "source": [
    "import seaborn as sns\n",
    "graphic=sns.pairplot(dataF)"
   ]
  },
  {
   "cell_type": "code",
   "execution_count": null,
   "metadata": {
    "colab": {
     "base_uri": "https://localhost:8080/",
     "height": 293
    },
    "colab_type": "code",
    "id": "EznkX7kG1DPw",
    "outputId": "8496d8ae-d95a-41da-be89-8d5802c0f8c8"
   },
   "outputs": [
    {
     "name": "stdout",
     "output_type": "stream",
     "text": [
      "    Age  Gender Fever Dyspnea  ...  Temp Blood Test RT-PCR History\n",
      "0    80    Male   Yes     Yes  ...     0          0      0       0\n",
      "1    62    Male   Yes       0  ...     0          0      0       0\n",
      "2    57    Male   Yes       0  ...     0          0      0       0\n",
      "3    45    Male   Yes       0  ...     0          0      0       0\n",
      "4    63    Male   Yes       0  ...     0          0      0       0\n",
      "..   ..     ...   ...     ...  ...   ...        ...    ...     ...\n",
      "125  62  Female    No       0  ...  38.3          0      0       0\n",
      "126  63    Male   Yes       0  ...  38.5          0      0       0\n",
      "127  63  Female   Yes       0  ...  39.3          0      0       0\n",
      "128  40  Female    No       0  ...     0          0      0       0\n",
      "129  78  Female    No       0  ...  36.7          0      0       0\n",
      "\n",
      "[129 rows x 14 columns]\n"
     ]
    },
    {
     "data": {
      "text/plain": [
       "pandas.core.frame.DataFrame"
      ]
     },
     "execution_count": 9,
     "metadata": {
      "tags": []
     },
     "output_type": "execute_result"
    }
   ],
   "source": [
    "#Seleccionamos las variables escogidas\n",
    "\n",
    "Xsubset = dataF[['Age','Gender','Fever','Dyspnea','Cough','PO2','CRP','Leukopenia','Exposure to Covid-19 patients','High risk zone','Temp'\n",
    ",'Blood Test','RT-PCR','History']]\n",
    "\n",
    "#para separar nuestra variable dependiente de la independiente, haremos lo siguiente:\n",
    "\n",
    "y = dataF.Decisionlabel.values\n",
    "print(Xsubset)\n",
    "type(Xsubset)"
   ]
  },
  {
   "cell_type": "markdown",
   "metadata": {
    "colab_type": "text",
    "id": "uuOB9H-eDUJE"
   },
   "source": [
    "\n",
    "\n",
    "> Preprocesamiento de datos\n",
    "\n"
   ]
  },
  {
   "cell_type": "code",
   "execution_count": null,
   "metadata": {
    "colab": {
     "base_uri": "https://localhost:8080/",
     "height": 239
    },
    "colab_type": "code",
    "id": "gP-XXtn01HUx",
    "outputId": "139d5c3e-98ce-41c1-969b-257f320b4287"
   },
   "outputs": [
    {
     "name": "stdout",
     "output_type": "stream",
     "text": [
      "37\n",
      "(129, 37)\n",
      "['Age', 'PO2', 'CRP', 'Temp', 'Gender_Female', 'Gender_Male', 'Gender_Undefined', 'Fever_', 'Fever_No', 'Fever_Yes', 'Dyspnea_0', 'Dyspnea_No', 'Dyspnea_Yes', 'Cough_0', 'Cough_No', 'Cough_Yes', 'Leukopenia_0', 'Leukopenia_Yes', 'Exposure to Covid-19 patients_0', 'Exposure to Covid-19 patients_No', 'Exposure to Covid-19 patients_No ', 'Exposure to Covid-19 patients_Yes', 'High risk zone_0', 'High risk zone_Yes', 'Blood Test_0', 'Blood Test_Leukocytosis', 'Blood Test_Leukopenia', 'RT-PCR_0', 'RT-PCR_Positive', 'History_0', 'History_Asthma', 'History_COPD', 'History_Chronic', 'History_Croonic', 'History_DM', 'History_Kidney cancer', 'History_None']\n",
      "        Age       PO2  ...  History_Kidney cancer  History_None\n",
      "0  1.100406 -0.454122  ...                    0.0           0.0\n",
      "1  0.145498  1.854588  ...                    0.0           0.0\n",
      "2 -0.119754 -0.454122  ...                    0.0           0.0\n",
      "3 -0.756360 -0.454122  ...                    0.0           0.0\n",
      "4  0.198549 -0.454122  ...                    0.0           0.0\n",
      "\n",
      "[5 rows x 37 columns]\n"
     ]
    }
   ],
   "source": [
    "#PRIMERA FORMA DE PREPROCESAR\n",
    "\n",
    "preprocesador1 = make_column_transformer(\n",
    "    (StandardScaler(),['Age','PO2','CRP','Temp']),\n",
    "    (OneHotEncoder(),['Gender','Fever','Dyspnea','Cough','Leukopenia','Exposure to Covid-19 patients','High risk zone','Blood Test','RT-PCR','History',]))\n",
    "\n",
    "#ordinal(importa el orden): OneHotEncoder -> sistema binario\n",
    "#nominal(No importa el orden, importa la clase o el nombre): Encoder Simple \n",
    "\n",
    "X = preprocesador1.fit_transform(Xsubset)\n",
    "print(X.shape[1])\n",
    "print(X.shape)\n",
    "\n",
    "#print(X)\n",
    "\n",
    "#print(preprocesador1)\n",
    "categorical_features = ['Gender','Fever','Dyspnea','Cough','Leukopenia','Exposure to Covid-19 patients','High risk zone','Blood Test','RT-PCR','History',]\n",
    "cnamesDataset1 = ['Age','PO2','CRP','Temp']\n",
    "cnamesDataset2 = preprocesador1.transformers_[1][1].get_feature_names(categorical_features)\n",
    "#print(cnamesDataset2)\n",
    "\n",
    "cnamesDataset1.extend(cnamesDataset2)\n",
    "print(cnamesDataset1)\n",
    "\n",
    "DatasetPreprocesado = pd.DataFrame(data=X,columns=cnamesDataset1)\n",
    "print(DatasetPreprocesado.head())\n",
    "\n",
    "DatasetPreprocesado.to_csv(\"DatasetPreprocesado2.csv\", sep=\";\",index = False) #sep es el separado, por defector es \",\""
   ]
  },
  {
   "cell_type": "markdown",
   "metadata": {
    "colab_type": "text",
    "id": "BptTd-T8C3XB"
   },
   "source": [
    "\n",
    "\n",
    "> Analisis de PCA con todos los componentes\n",
    "\n"
   ]
  },
  {
   "cell_type": "code",
   "execution_count": null,
   "metadata": {
    "colab": {
     "base_uri": "https://localhost:8080/",
     "height": 424
    },
    "colab_type": "code",
    "id": "4i56eesE1XRp",
    "outputId": "e58be97d-b68f-419c-d57b-ec539e13fbcc"
   },
   "outputs": [
    {
     "data": {
      "text/html": [
       "<div>\n",
       "<style scoped>\n",
       "    .dataframe tbody tr th:only-of-type {\n",
       "        vertical-align: middle;\n",
       "    }\n",
       "\n",
       "    .dataframe tbody tr th {\n",
       "        vertical-align: top;\n",
       "    }\n",
       "\n",
       "    .dataframe thead th {\n",
       "        text-align: right;\n",
       "    }\n",
       "</style>\n",
       "<table border=\"1\" class=\"dataframe\">\n",
       "  <thead>\n",
       "    <tr style=\"text-align: right;\">\n",
       "      <th></th>\n",
       "      <th>0</th>\n",
       "    </tr>\n",
       "  </thead>\n",
       "  <tbody>\n",
       "    <tr>\n",
       "      <th>0</th>\n",
       "      <td>0</td>\n",
       "    </tr>\n",
       "    <tr>\n",
       "      <th>1</th>\n",
       "      <td>0</td>\n",
       "    </tr>\n",
       "    <tr>\n",
       "      <th>2</th>\n",
       "      <td>0</td>\n",
       "    </tr>\n",
       "    <tr>\n",
       "      <th>3</th>\n",
       "      <td>0</td>\n",
       "    </tr>\n",
       "    <tr>\n",
       "      <th>4</th>\n",
       "      <td>0</td>\n",
       "    </tr>\n",
       "    <tr>\n",
       "      <th>...</th>\n",
       "      <td>...</td>\n",
       "    </tr>\n",
       "    <tr>\n",
       "      <th>124</th>\n",
       "      <td>1</td>\n",
       "    </tr>\n",
       "    <tr>\n",
       "      <th>125</th>\n",
       "      <td>1</td>\n",
       "    </tr>\n",
       "    <tr>\n",
       "      <th>126</th>\n",
       "      <td>1</td>\n",
       "    </tr>\n",
       "    <tr>\n",
       "      <th>127</th>\n",
       "      <td>1</td>\n",
       "    </tr>\n",
       "    <tr>\n",
       "      <th>128</th>\n",
       "      <td>1</td>\n",
       "    </tr>\n",
       "  </tbody>\n",
       "</table>\n",
       "<p>129 rows × 1 columns</p>\n",
       "</div>"
      ],
      "text/plain": [
       "     0\n",
       "0    0\n",
       "1    0\n",
       "2    0\n",
       "3    0\n",
       "4    0\n",
       "..  ..\n",
       "124  1\n",
       "125  1\n",
       "126  1\n",
       "127  1\n",
       "128  1\n",
       "\n",
       "[129 rows x 1 columns]"
      ]
     },
     "execution_count": 11,
     "metadata": {
      "tags": []
     },
     "output_type": "execute_result"
    }
   ],
   "source": [
    "#Datamining: Clustering (método no supervisado de Machine Learning)\n",
    "import matplotlib.pyplot as plt\n",
    "from mpl_toolkits.mplot3d import Axes3D\n",
    "from sklearn import datasets\n",
    "\n",
    "from sklearn.cluster import KMeans\n",
    "\n",
    "#Kmeans Clustering \n",
    "def doKmeans(X, nclust=4):\n",
    "    model = KMeans(nclust)\n",
    "    model.fit(X)\n",
    "    clust_labels = model.predict(X)\n",
    "    cent = model.cluster_centers_\n",
    "    return (clust_labels, cent)\n",
    "\n",
    "clust_labels, cent = doKmeans(DatasetPreprocesado, 3)\n",
    "kmeans = pd.DataFrame(clust_labels)\n",
    "kmeans"
   ]
  },
  {
   "cell_type": "code",
   "execution_count": null,
   "metadata": {
    "colab": {
     "base_uri": "https://localhost:8080/",
     "height": 313
    },
    "colab_type": "code",
    "id": "VYkELPWM0TeN",
    "outputId": "f585e745-f02e-46d5-d21f-14251c011e2b"
   },
   "outputs": [
    {
     "data": {
      "text/plain": [
       "<matplotlib.colorbar.Colorbar at 0x7f7e16d7c278>"
      ]
     },
     "execution_count": 12,
     "metadata": {
      "tags": []
     },
     "output_type": "execute_result"
    },
    {
     "data": {
      "image/png": "[encoded data removed]",
      "text/plain": [
       "<Figure size 432x288 with 2 Axes>"
      ]
     },
     "metadata": {
      "needs_background": "light",
      "tags": []
     },
     "output_type": "display_data"
    }
   ],
   "source": [
    "#Visualización de grupos de usuarios en 2D\n",
    "fig = plt.figure()\n",
    "ax = fig.add_subplot(111)\n",
    "scatter = ax.scatter(DatasetPreprocesado['Temp'],DatasetPreprocesado['Exposure to Covid-19 patients_0'],\n",
    "                     c=kmeans[0],s=50)\n",
    "ax.set_title('K-Means Clustering')\n",
    "ax.set_xlabel('1ER FACTOR')\n",
    "ax.set_ylabel('2DO FACTOR')\n",
    "plt.colorbar(scatter)"
   ]
  },
  {
   "cell_type": "code",
   "execution_count": null,
   "metadata": {
    "colab": {},
    "colab_type": "code",
    "id": "1m5h1tWB0TNT"
   },
   "outputs": [],
   "source": []
  },
  {
   "cell_type": "code",
   "execution_count": null,
   "metadata": {
    "colab": {
     "base_uri": "https://localhost:8080/",
     "height": 274
    },
    "colab_type": "code",
    "id": "uqvsDd1U1RkD",
    "outputId": "a9a5f325-639c-45be-b271-5ead4e5e5d63"
   },
   "outputs": [
    {
     "name": "stdout",
     "output_type": "stream",
     "text": [
      "       0     1     2     3     4     5   ...   31   32   33   34   35   36\n",
      "0    1.79 -0.59 -0.51 -1.32  0.04  0.78  ...  0.0  0.0  0.0  0.0 -0.0  0.0\n",
      "1    1.97 -0.14  0.74  0.47 -0.89 -0.90  ... -0.0 -0.0 -0.0 -0.0  0.0 -0.0\n",
      "2    0.85  0.26 -0.89 -0.57 -0.81 -0.85  ...  0.0 -0.0  0.0 -0.0 -0.0  0.0\n",
      "3    0.83  0.71 -1.22 -0.20 -0.94 -0.94  ...  0.0  0.0 -0.0  0.0 -0.0 -0.0\n",
      "4    0.90  0.08 -0.85 -0.77 -0.85 -1.01  ...  0.0  0.0 -0.0  0.0 -0.0  0.0\n",
      "..    ...   ...   ...   ...   ...   ...  ...  ...  ...  ...  ...  ...  ...\n",
      "124 -1.59 -0.30  0.16  0.13  0.55 -0.48  ... -0.0  0.0 -0.0  0.0 -0.0 -0.0\n",
      "125 -1.25 -0.17  0.20 -0.38 -1.03 -0.01  ...  0.0 -0.0 -0.0  0.0 -0.0  0.0\n",
      "126 -1.52 -0.18  0.24 -0.01 -0.23 -0.14  ...  0.0  0.0 -0.0  0.0  0.0  0.0\n",
      "127 -0.58  0.36 -1.28  0.51  1.45 -0.66  ...  0.0 -0.0 -0.0  0.0  0.0 -0.0\n",
      "128 -1.51 -1.02  0.41 -0.35  1.25  0.05  ... -0.0  0.0  0.0  0.0 -0.0  0.0\n",
      "\n",
      "[129 rows x 37 columns]\n"
     ]
    }
   ],
   "source": [
    "# sin especificar el numero de componentes\n",
    "from sklearn.decomposition import PCA\n",
    "pca = PCA()\n",
    "principalComponents = pca.fit_transform(DatasetPreprocesado)\n",
    "\n",
    "principalDf = pd.DataFrame(data = principalComponents)\n",
    "\n",
    "principalDf=round(principalDf, 2)\n",
    "print(principalDf)"
   ]
  },
  {
   "cell_type": "code",
   "execution_count": null,
   "metadata": {
    "colab": {
     "base_uri": "https://localhost:8080/",
     "height": 72
    },
    "colab_type": "code",
    "id": "hfB6TWMtWnyg",
    "outputId": "f1b6ebea-1f48-4e0c-f285-a32e5b6397c4"
   },
   "outputs": [
    {
     "name": "stdout",
     "output_type": "stream",
     "text": [
      "Componente 0\n"
     ]
    },
    {
     "data": {
      "text/plain": [
       "array([[ 1.        , -0.92994521],\n",
       "       [-0.92994521,  1.        ]])"
      ]
     },
     "execution_count": 14,
     "metadata": {
      "tags": []
     },
     "output_type": "execute_result"
    }
   ],
   "source": [
    "print('Componente 0')\n",
    "np.corrcoef(principalDf[0], y)"
   ]
  },
  {
   "cell_type": "code",
   "execution_count": null,
   "metadata": {
    "colab": {
     "base_uri": "https://localhost:8080/",
     "height": 201
    },
    "colab_type": "code",
    "id": "EdcBybvf1XJs",
    "outputId": "7add7eef-262d-4f75-9bf9-94790cba59ce"
   },
   "outputs": [
    {
     "data": {
      "text/plain": [
       "array([2.78698933e-01, 1.66264660e-01, 1.26203623e-01, 1.07827498e-01,\n",
       "       6.82239809e-02, 4.72973453e-02, 4.46509235e-02, 3.16220674e-02,\n",
       "       2.61029918e-02, 1.93423203e-02, 1.68881439e-02, 1.48687158e-02,\n",
       "       1.30038778e-02, 9.31487176e-03, 7.83335548e-03, 4.75906711e-03,\n",
       "       3.93134760e-03, 3.48393770e-03, 2.56512189e-03, 1.99828504e-03,\n",
       "       1.43152223e-03, 1.04672567e-03, 9.45182524e-04, 8.90437219e-04,\n",
       "       8.05063853e-04, 5.49636732e-32, 1.33622940e-33, 1.33622940e-33,\n",
       "       1.33622940e-33, 1.33622940e-33, 1.33622940e-33, 1.33622940e-33,\n",
       "       1.33622940e-33, 1.33622940e-33, 1.33622940e-33, 1.33622940e-33,\n",
       "       1.33622940e-33])"
      ]
     },
     "execution_count": 15,
     "metadata": {
      "tags": []
     },
     "output_type": "execute_result"
    }
   ],
   "source": [
    "#The explained variance tells you how much information (variance) can be attributed to each of the principal components. This is important as while you can convert 4 dimensional space to 2 dimensional space, you lose some of the variance (information) when you do this. By using the attribute explained_variance_ratio_, you can see that the first principal component contains 72.77% of the variance and the second principal component contains 23.03% of the variance. Together, the two components contain 95.80% of the information.\n",
    "explained_variance=pca.explained_variance_ratio_\n",
    "explained_variance"
   ]
  },
  {
   "cell_type": "code",
   "execution_count": null,
   "metadata": {
    "colab": {
     "base_uri": "https://localhost:8080/",
     "height": 295
    },
    "colab_type": "code",
    "id": "aHg9AJEO1a6g",
    "outputId": "0f8cd0e4-f2c6-40a7-c404-6647c67555bc"
   },
   "outputs": [
    {
     "data": {
      "image/png": "[encoded data removed]",
      "text/plain": [
       "<Figure size 432x288 with 1 Axes>"
      ]
     },
     "metadata": {
      "needs_background": "light",
      "tags": []
     },
     "output_type": "display_data"
    }
   ],
   "source": [
    "num_components=37\n",
    "a = range(num_components)\n",
    "num_pc= a[::1]\n",
    "\n",
    "#Visualize 2D Projection\n",
    "import matplotlib.pyplot as plt\n",
    "\n",
    "#plt.plot(num_pc, explained_variance)\n",
    "plt.plot(num_pc, explained_variance, color='black', linestyle='solid', linewidth = 3, \n",
    "          markerfacecolor='black', markersize=8)\n",
    "#plt.ylim((0,0.4))\n",
    "plt.title('Analysis #PC')\n",
    "plt.xlabel('#Principal Components')\n",
    "plt.ylabel('Variance')\n",
    "plt.grid()\n",
    "plt.show()"
   ]
  },
  {
   "cell_type": "markdown",
   "metadata": {
    "colab_type": "text",
    "id": "TBcBRhgDCjV6"
   },
   "source": [
    "\n",
    "\n",
    "> Analisis de PCA con 8 componentes\n",
    "\n"
   ]
  },
  {
   "cell_type": "code",
   "execution_count": null,
   "metadata": {
    "colab": {
     "base_uri": "https://localhost:8080/",
     "height": 274
    },
    "colab_type": "code",
    "id": "sDXYqQ6_Mzb2",
    "outputId": "f980fcd9-8bfe-4450-b11e-3c51fe6cc312"
   },
   "outputs": [
    {
     "name": "stdout",
     "output_type": "stream",
     "text": [
      "        0     1     2     3     4     5     6     7\n",
      "0    1.79 -0.59 -0.51 -1.32  0.04  0.78 -0.30 -0.30\n",
      "1    1.97 -0.14  0.74  0.47 -0.89 -0.90  0.26  0.49\n",
      "2    0.85  0.26 -0.89 -0.57 -0.81 -0.85  0.12  0.27\n",
      "3    0.83  0.71 -1.22 -0.20 -0.94 -0.94  0.15  0.17\n",
      "4    0.90  0.08 -0.85 -0.77 -0.85 -1.01  0.01  0.19\n",
      "..    ...   ...   ...   ...   ...   ...   ...   ...\n",
      "124 -1.59 -0.30  0.16  0.13  0.55 -0.48 -0.07 -0.40\n",
      "125 -1.25 -0.17  0.20 -0.38 -1.03 -0.01  0.15 -0.25\n",
      "126 -1.52 -0.18  0.24 -0.01 -0.23 -0.14 -0.80  0.10\n",
      "127 -0.58  0.36 -1.28  0.51  1.45 -0.66  0.59  0.42\n",
      "128 -1.51 -1.02  0.41 -0.35  1.25  0.05  0.30  0.08\n",
      "\n",
      "[129 rows x 8 columns]\n"
     ]
    }
   ],
   "source": [
    "from sklearn.decomposition import PCA\n",
    "pca = PCA(n_components=8)\n",
    "principalComponents = pca.fit_transform(DatasetPreprocesado)\n",
    "\n",
    "principalDf2 = pd.DataFrame(data = principalComponents)\n",
    "\n",
    "principalDf2=round(principalDf2, 2)\n",
    "print(principalDf2)"
   ]
  },
  {
   "cell_type": "code",
   "execution_count": null,
   "metadata": {
    "colab": {
     "base_uri": "https://localhost:8080/",
     "height": 54
    },
    "colab_type": "code",
    "id": "hEIIH7N3MzHn",
    "outputId": "357e68e1-d074-40f5-da23-32608fb7ea13"
   },
   "outputs": [
    {
     "data": {
      "text/plain": [
       "array([0.27869893, 0.16626466, 0.12620362, 0.1078275 , 0.06822398,\n",
       "       0.04729735, 0.04465092, 0.03162207])"
      ]
     },
     "execution_count": 18,
     "metadata": {
      "tags": []
     },
     "output_type": "execute_result"
    }
   ],
   "source": [
    "explained_variance=pca.explained_variance_ratio_\n",
    "explained_variance"
   ]
  },
  {
   "cell_type": "code",
   "execution_count": null,
   "metadata": {
    "colab": {
     "base_uri": "https://localhost:8080/",
     "height": 72
    },
    "colab_type": "code",
    "id": "kY-X4ok4WbVs",
    "outputId": "fb88cf26-5f76-4ea9-e0cf-138e50bf42d6"
   },
   "outputs": [
    {
     "name": "stdout",
     "output_type": "stream",
     "text": [
      "Componente 0\n"
     ]
    },
    {
     "data": {
      "text/plain": [
       "array([[ 1.        , -0.03971095],\n",
       "       [-0.03971095,  1.        ]])"
      ]
     },
     "execution_count": 19,
     "metadata": {
      "tags": []
     },
     "output_type": "execute_result"
    }
   ],
   "source": [
    "print('Componente 0')\n",
    "np.corrcoef(principalDf2[7], y)"
   ]
  },
  {
   "cell_type": "code",
   "execution_count": null,
   "metadata": {
    "colab": {
     "base_uri": "https://localhost:8080/",
     "height": 279
    },
    "colab_type": "code",
    "id": "3C7L_V3QM-ET",
    "outputId": "952bbce1-1613-4ef6-a318-d4353cfdbbf1"
   },
   "outputs": [
    {
     "data": {
      "image/png": "[encoded data removed]",
      "text/plain": [
       "<Figure size 432x288 with 1 Axes>"
      ]
     },
     "metadata": {
      "needs_background": "light",
      "tags": []
     },
     "output_type": "display_data"
    }
   ],
   "source": [
    "num_components=8\n",
    "a = range(num_components)\n",
    "num_pc= a[::1]\n",
    "\n",
    "#Visualize 2D Projection\n",
    "import matplotlib.pyplot as plt\n",
    "\n",
    "#plt.plot(num_pc, explained_variance)\n",
    "plt.plot(num_pc, explained_variance, color='black', linestyle='solid', linewidth = 3, \n",
    "          markerfacecolor='black', markersize=8)\n",
    "#plt.ylim((0,0.4))\n",
    "plt.xlabel('Principales Componentes')\n",
    "plt.ylabel('Varianza')\n",
    "plt.grid()\n",
    "plt.show()"
   ]
  },
  {
   "cell_type": "markdown",
   "metadata": {
    "colab_type": "text",
    "id": "j7BOfEjGCYci"
   },
   "source": [
    "\n",
    "\n",
    "> **Analisis de PCA con 4 componentes**\n",
    "\n"
   ]
  },
  {
   "cell_type": "code",
   "execution_count": null,
   "metadata": {
    "colab": {
     "base_uri": "https://localhost:8080/",
     "height": 274
    },
    "colab_type": "code",
    "id": "6F9AnwDCF0MP",
    "outputId": "a0f32496-d0bb-4533-a3f9-74c22aff5eef"
   },
   "outputs": [
    {
     "name": "stdout",
     "output_type": "stream",
     "text": [
      "        0     1     2     3\n",
      "0    1.79 -0.59 -0.51 -1.32\n",
      "1    1.97 -0.14  0.74  0.47\n",
      "2    0.85  0.26 -0.89 -0.57\n",
      "3    0.83  0.71 -1.22 -0.20\n",
      "4    0.90  0.08 -0.85 -0.77\n",
      "..    ...   ...   ...   ...\n",
      "124 -1.59 -0.30  0.16  0.13\n",
      "125 -1.25 -0.17  0.20 -0.38\n",
      "126 -1.52 -0.18  0.24 -0.01\n",
      "127 -0.58  0.36 -1.28  0.51\n",
      "128 -1.51 -1.02  0.41 -0.35\n",
      "\n",
      "[129 rows x 4 columns]\n"
     ]
    }
   ],
   "source": [
    "from sklearn.decomposition import PCA\n",
    "pca = PCA(n_components=4)\n",
    "principalComponents = pca.fit_transform(DatasetPreprocesado)\n",
    "\n",
    "principalDf1 = pd.DataFrame(data = principalComponents)\n",
    "\n",
    "principalDf1=round(principalDf1, 2)\n",
    "print(principalDf1)"
   ]
  },
  {
   "cell_type": "code",
   "execution_count": null,
   "metadata": {
    "colab": {
     "base_uri": "https://localhost:8080/",
     "height": 35
    },
    "colab_type": "code",
    "id": "vQ5NkhcvGE8Z",
    "outputId": "71e5cdd8-a26c-43d6-a49b-b74f64da405f"
   },
   "outputs": [
    {
     "data": {
      "text/plain": [
       "array([0.27869893, 0.16626466, 0.12620362, 0.1078275 ])"
      ]
     },
     "execution_count": 22,
     "metadata": {
      "tags": []
     },
     "output_type": "execute_result"
    }
   ],
   "source": [
    "explained_variance=pca.explained_variance_ratio_\n",
    "explained_variance"
   ]
  },
  {
   "cell_type": "code",
   "execution_count": null,
   "metadata": {
    "colab": {
     "base_uri": "https://localhost:8080/",
     "height": 72
    },
    "colab_type": "code",
    "id": "TzBTyjKdU4Nb",
    "outputId": "9663a03c-7b6f-403f-dd67-39a5af101495"
   },
   "outputs": [
    {
     "name": "stdout",
     "output_type": "stream",
     "text": [
      "Componente 0\n"
     ]
    },
    {
     "data": {
      "text/plain": [
       "array([[ 1.        , -0.92994521],\n",
       "       [-0.92994521,  1.        ]])"
      ]
     },
     "execution_count": 23,
     "metadata": {
      "tags": []
     },
     "output_type": "execute_result"
    }
   ],
   "source": [
    "#principalDf1[0]\n",
    "print('Componente 0')\n",
    "np.corrcoef(principalDf1[0], y)\n"
   ]
  },
  {
   "cell_type": "code",
   "execution_count": null,
   "metadata": {
    "colab": {
     "base_uri": "https://localhost:8080/",
     "height": 279
    },
    "colab_type": "code",
    "id": "dFPj4Rr8_of5",
    "outputId": "a14af2ff-cf58-4f42-b055-ec6650449dca"
   },
   "outputs": [
    {
     "data": {
      "image/png": "[encoded data removed]",
      "text/plain": [
       "<Figure size 432x288 with 1 Axes>"
      ]
     },
     "metadata": {
      "needs_background": "light",
      "tags": []
     },
     "output_type": "display_data"
    }
   ],
   "source": [
    "num_components=4\n",
    "a = range(num_components)\n",
    "num_pc= a[::1]\n",
    "\n",
    "#Visualize 2D Projection\n",
    "import matplotlib.pyplot as plt\n",
    "\n",
    "#plt.plot(num_pc, explained_variance)\n",
    "plt.plot(num_pc, explained_variance, color='black', linestyle='solid', linewidth = 3, \n",
    "          markerfacecolor='black', markersize=8)\n",
    "#plt.ylim((0,0.4))\n",
    "plt.xlabel('Principales Componentes')\n",
    "plt.ylabel('Varianza')\n",
    "plt.grid()\n",
    "plt.show()"
   ]
  },
  {
   "cell_type": "code",
   "execution_count": null,
   "metadata": {
    "colab": {
     "base_uri": "https://localhost:8080/",
     "height": 424
    },
    "colab_type": "code",
    "id": "HMBMgNug5Rgi",
    "outputId": "1ce117f7-2d95-425f-cde6-76048383d578"
   },
   "outputs": [
    {
     "data": {
      "text/html": [
       "<div>\n",
       "<style scoped>\n",
       "    .dataframe tbody tr th:only-of-type {\n",
       "        vertical-align: middle;\n",
       "    }\n",
       "\n",
       "    .dataframe tbody tr th {\n",
       "        vertical-align: top;\n",
       "    }\n",
       "\n",
       "    .dataframe thead th {\n",
       "        text-align: right;\n",
       "    }\n",
       "</style>\n",
       "<table border=\"1\" class=\"dataframe\">\n",
       "  <thead>\n",
       "    <tr style=\"text-align: right;\">\n",
       "      <th></th>\n",
       "      <th>0</th>\n",
       "    </tr>\n",
       "  </thead>\n",
       "  <tbody>\n",
       "    <tr>\n",
       "      <th>0</th>\n",
       "      <td>0</td>\n",
       "    </tr>\n",
       "    <tr>\n",
       "      <th>1</th>\n",
       "      <td>0</td>\n",
       "    </tr>\n",
       "    <tr>\n",
       "      <th>2</th>\n",
       "      <td>0</td>\n",
       "    </tr>\n",
       "    <tr>\n",
       "      <th>3</th>\n",
       "      <td>0</td>\n",
       "    </tr>\n",
       "    <tr>\n",
       "      <th>4</th>\n",
       "      <td>0</td>\n",
       "    </tr>\n",
       "    <tr>\n",
       "      <th>...</th>\n",
       "      <td>...</td>\n",
       "    </tr>\n",
       "    <tr>\n",
       "      <th>124</th>\n",
       "      <td>1</td>\n",
       "    </tr>\n",
       "    <tr>\n",
       "      <th>125</th>\n",
       "      <td>1</td>\n",
       "    </tr>\n",
       "    <tr>\n",
       "      <th>126</th>\n",
       "      <td>1</td>\n",
       "    </tr>\n",
       "    <tr>\n",
       "      <th>127</th>\n",
       "      <td>1</td>\n",
       "    </tr>\n",
       "    <tr>\n",
       "      <th>128</th>\n",
       "      <td>1</td>\n",
       "    </tr>\n",
       "  </tbody>\n",
       "</table>\n",
       "<p>129 rows × 1 columns</p>\n",
       "</div>"
      ],
      "text/plain": [
       "     0\n",
       "0    0\n",
       "1    0\n",
       "2    0\n",
       "3    0\n",
       "4    0\n",
       "..  ..\n",
       "124  1\n",
       "125  1\n",
       "126  1\n",
       "127  1\n",
       "128  1\n",
       "\n",
       "[129 rows x 1 columns]"
      ]
     },
     "execution_count": 25,
     "metadata": {
      "tags": []
     },
     "output_type": "execute_result"
    }
   ],
   "source": [
    "#Datamining: Clustering (método no supervisado de Machine Learning)\n",
    "import matplotlib.pyplot as plt\n",
    "from mpl_toolkits.mplot3d import Axes3D\n",
    "from sklearn import datasets\n",
    "\n",
    "from sklearn.cluster import KMeans\n",
    "\n",
    "#Kmeans Clustering \n",
    "def doKmeans(X, nclust=2):\n",
    "    model = KMeans(nclust)\n",
    "    model.fit(X)\n",
    "    clust_labels = model.predict(X)\n",
    "    cent = model.cluster_centers_\n",
    "    return (clust_labels, cent)\n",
    "\n",
    "clust_labels, cent = doKmeans(principalDf1, 3)\n",
    "kmeans = pd.DataFrame(clust_labels)\n",
    "kmeans"
   ]
  },
  {
   "cell_type": "code",
   "execution_count": null,
   "metadata": {
    "colab": {
     "base_uri": "https://localhost:8080/",
     "height": 313
    },
    "colab_type": "code",
    "id": "_E4mHntl5YpC",
    "outputId": "fab66885-5074-41c1-8801-a10afad7d96f"
   },
   "outputs": [
    {
     "data": {
      "text/plain": [
       "<matplotlib.colorbar.Colorbar at 0x7f7e16b939e8>"
      ]
     },
     "execution_count": 26,
     "metadata": {
      "tags": []
     },
     "output_type": "execute_result"
    },
    {
     "data": {
      "image/png": "[encoded data removed]",
      "text/plain": [
       "<Figure size 432x288 with 2 Axes>"
      ]
     },
     "metadata": {
      "needs_background": "light",
      "tags": []
     },
     "output_type": "display_data"
    }
   ],
   "source": [
    "#Visualización de grupos de usuarios en 2D\n",
    "fig = plt.figure()\n",
    "ax = fig.add_subplot(111)\n",
    "scatter = ax.scatter(principalDf1[0],principalDf1[1],label='df0',\n",
    "                     c=kmeans[0],s=50)\n",
    "ax.set_title('K-Means Clustering')\n",
    "ax.set_xlabel('1ER FACTOR')\n",
    "ax.set_ylabel('2DO FACTOR')\n",
    "ax.legend()\n",
    "plt.colorbar(scatter)\n"
   ]
  },
  {
   "cell_type": "code",
   "execution_count": null,
   "metadata": {
    "colab": {
     "base_uri": "https://localhost:8080/",
     "height": 301
    },
    "colab_type": "code",
    "id": "jOCZnaBWZgCl",
    "outputId": "0eeb5a75-f5b5-4c73-dac0-521e95a3adcb"
   },
   "outputs": [
    {
     "data": {
      "text/plain": [
       "<matplotlib.colorbar.Colorbar at 0x7f7e1692b588>"
      ]
     },
     "execution_count": 28,
     "metadata": {
      "tags": []
     },
     "output_type": "execute_result"
    },
    {
     "data": {
      "image/png": "[encoded data removed]",
      "text/plain": [
       "<Figure size 432x288 with 2 Axes>"
      ]
     },
     "metadata": {
      "needs_background": "light",
      "tags": []
     },
     "output_type": "display_data"
    }
   ],
   "source": [
    "#Visualización de grupos de usuarios en 2D\n",
    "fig = plt.figure()\n",
    "ax = fig.add_subplot(111)\n",
    "scatter = ax.scatter(principalDf1[0],principalDf1[1],\n",
    "                     c=kmeans[0],s=50)\n",
    "legend1 = ax.legend(*scatter.legend_elements(),\n",
    "                    loc=\"upper right\", title=\"Clases\")\n",
    "ax.set_xlabel('1ER FACTOR')\n",
    "ax.set_ylabel('2DO FACTOR')\n",
    "ax.add_artist(legend1)\n",
    "plt.colorbar(scatter)"
   ]
  },
  {
   "cell_type": "code",
   "execution_count": null,
   "metadata": {
    "colab": {
     "base_uri": "https://localhost:8080/",
     "height": 313
    },
    "colab_type": "code",
    "id": "MFwUmvgPbI5U",
    "outputId": "3d689d4e-d0de-4c56-c924-a7238335af8a"
   },
   "outputs": [
    {
     "data": {
      "text/plain": [
       "<matplotlib.colorbar.Colorbar at 0x7fc9df4384e0>"
      ]
     },
     "execution_count": 48,
     "metadata": {
      "tags": []
     },
     "output_type": "execute_result"
    },
    {
     "data": {
      "image/png": "[encoded data removed]",
      "text/plain": [
       "<Figure size 432x288 with 2 Axes>"
      ]
     },
     "metadata": {
      "needs_background": "light",
      "tags": []
     },
     "output_type": "display_data"
    }
   ],
   "source": [
    "#Visualización de grupos de usuarios en 2D\n",
    "fig = plt.figure()\n",
    "ax = fig.add_subplot(111)\n",
    "labels = [\"df0\", \"df1\", \"Od\"]\n",
    "scatter = ax.scatter(principalDf1[0],principalDf1[1],label=labels,\n",
    "                     c=kmeans[0],s=50)\n",
    "ax.set_title('K-Means Clustering')\n",
    "ax.set_xlabel('1ER FACTOR')\n",
    "ax.set_ylabel('2DO FACTOR')\n",
    "ax.legend(loc='upper left')\n",
    "plt.colorbar(scatter)"
   ]
  },
  {
   "cell_type": "code",
   "execution_count": null,
   "metadata": {
    "colab": {
     "base_uri": "https://localhost:8080/",
     "height": 182
    },
    "colab_type": "code",
    "id": "rzDn6YTA0Kjt",
    "outputId": "a5f2f07c-fd5a-4e72-d068-16adde0249ae"
   },
   "outputs": [
    {
     "data": {
      "text/plain": [
       "count    129.000000\n",
       "mean       0.542636\n",
       "std        0.544974\n",
       "min        0.000000\n",
       "25%        0.000000\n",
       "50%        1.000000\n",
       "75%        1.000000\n",
       "max        2.000000\n",
       "Name: 0, dtype: float64"
      ]
     },
     "execution_count": 29,
     "metadata": {
      "tags": []
     },
     "output_type": "execute_result"
    }
   ],
   "source": [
    "kmeans[0].describe()"
   ]
  },
  {
   "cell_type": "code",
   "execution_count": null,
   "metadata": {
    "colab": {
     "base_uri": "https://localhost:8080/",
     "height": 182
    },
    "colab_type": "code",
    "id": "NwisdJIg0Zf5",
    "outputId": "b10e2d57-bcb9-402e-fc9a-91399182e9a5"
   },
   "outputs": [
    {
     "data": {
      "text/plain": [
       "count    1.290000e+02\n",
       "mean     4.767935e-16\n",
       "std      1.448656e+00\n",
       "min     -1.730000e+00\n",
       "25%     -1.470000e+00\n",
       "50%     -1.000000e-02\n",
       "75%      1.380000e+00\n",
       "max      2.920000e+00\n",
       "Name: 0, dtype: float64"
      ]
     },
     "execution_count": 30,
     "metadata": {
      "tags": []
     },
     "output_type": "execute_result"
    }
   ],
   "source": [
    "principalDf1[0].describe()"
   ]
  },
  {
   "cell_type": "code",
   "execution_count": null,
   "metadata": {
    "colab": {
     "base_uri": "https://localhost:8080/",
     "height": 54
    },
    "colab_type": "code",
    "id": "P_JyMDZaWn8X",
    "outputId": "d6830610-d08f-4125-b01a-234fc25d782b"
   },
   "outputs": [
    {
     "data": {
      "text/plain": [
       "array([[ 1.        , -0.92994521],\n",
       "       [-0.92994521,  1.        ]])"
      ]
     },
     "execution_count": 29,
     "metadata": {
      "tags": []
     },
     "output_type": "execute_result"
    }
   ],
   "source": [
    "x=principalDf1[0]\n",
    "np.corrcoef(x,y)"
   ]
  },
  {
   "cell_type": "code",
   "execution_count": null,
   "metadata": {
    "colab": {
     "base_uri": "https://localhost:8080/",
     "height": 54
    },
    "colab_type": "code",
    "id": "UvpvWDcKWnpQ",
    "outputId": "988124ad-541d-41b6-ef55-b1ea6f73532f"
   },
   "outputs": [
    {
     "data": {
      "text/plain": [
       "array([[ 1.        , -0.16767478],\n",
       "       [-0.16767478,  1.        ]])"
      ]
     },
     "execution_count": 30,
     "metadata": {
      "tags": []
     },
     "output_type": "execute_result"
    }
   ],
   "source": [
    "x1=principalDf[1]\n",
    "np.corrcoef(x1,y)"
   ]
  },
  {
   "cell_type": "code",
   "execution_count": null,
   "metadata": {
    "colab": {
     "base_uri": "https://localhost:8080/",
     "height": 54
    },
    "colab_type": "code",
    "id": "jtzpnQUkZRMb",
    "outputId": "7fe216e8-d303-4a4c-9d31-a79c4a50b5d4"
   },
   "outputs": [
    {
     "data": {
      "text/plain": [
       "array([[1.        , 0.05928973],\n",
       "       [0.05928973, 1.        ]])"
      ]
     },
     "execution_count": 31,
     "metadata": {
      "tags": []
     },
     "output_type": "execute_result"
    }
   ],
   "source": [
    "x2=principalDf[2]\n",
    "np.corrcoef(x2,y)"
   ]
  },
  {
   "cell_type": "markdown",
   "metadata": {
    "colab_type": "text",
    "id": "uH77is7eCNHi"
   },
   "source": [
    "\n",
    "\n",
    "> **Clustering**\n",
    "\n"
   ]
  },
  {
   "cell_type": "code",
   "execution_count": null,
   "metadata": {
    "colab": {
     "base_uri": "https://localhost:8080/",
     "height": 266
    },
    "colab_type": "code",
    "id": "D_H5vlJ1wQOI",
    "outputId": "ac3c6f63-3eef-483a-ea1a-89f401cb3bcc"
   },
   "outputs": [
    {
     "data": {
      "text/plain": [
       "Text(0.5, 0, '3ER FACTOR')"
      ]
     },
     "execution_count": 21,
     "metadata": {
      "tags": []
     },
     "output_type": "execute_result"
    },
    {
     "data": {
      "image/png": "[encoded data removed]",
      "text/plain": [
       "<Figure size 432x288 with 1 Axes>"
      ]
     },
     "metadata": {
      "needs_background": "light",
      "tags": []
     },
     "output_type": "display_data"
    }
   ],
   "source": [
    "from mpl_toolkits import mplot3d\n",
    "%matplotlib inline\n",
    "import numpy as np\n",
    "import matplotlib.pyplot as plt\n",
    "fig = plt.figure()\n",
    "ax = plt.axes(projection='3d')\n",
    "\n",
    "# Data for a three-dimensional line\n",
    "zline = np.linspace(-5, 5, 11)\n",
    "xline = np.linspace(0, 10, 11)\n",
    "yline = np.linspace(0, 15, 11)\n",
    "#ax.plot3D(xline, yline, zline, 'gray')\n",
    "\n",
    "# Data for three-dimensional scattered points\n",
    "zdata = principalDf1[0]\n",
    "xdata = principalDf1[1]\n",
    "ydata = principalDf1[2]\n",
    "#ax.scatter3D(xdata, ydata, zdata, c=zdata);\n",
    "ax.scatter3D(xdata, ydata, zdata);\n",
    "ax.set_title('K-Means Clustering')\n",
    "ax.set_xlabel('1ER FACTOR')\n",
    "ax.set_ylabel('2DO FACTOR')\n",
    "ax.set_zlabel('3ER FACTOR')"
   ]
  },
  {
   "cell_type": "markdown",
   "metadata": {
    "colab_type": "text",
    "id": "MJI4KrY8Btqs"
   },
   "source": [
    "\n",
    "\n",
    "> **Red Neuronal de los datos con PCA**\n",
    "\n"
   ]
  },
  {
   "cell_type": "code",
   "execution_count": null,
   "metadata": {
    "colab": {},
    "colab_type": "code",
    "id": "pK4fMxzB1hwR"
   },
   "outputs": [],
   "source": [
    "from sklearn.decomposition import PCA\n",
    "pca = PCA(n_components=4)\n",
    "X = pca.fit_transform(DatasetPreprocesado)"
   ]
  },
  {
   "cell_type": "code",
   "execution_count": null,
   "metadata": {
    "colab": {
     "base_uri": "https://localhost:8080/",
     "height": 129
    },
    "colab_type": "code",
    "id": "kVp2WjcE2CaI",
    "outputId": "aea932c6-4964-4692-a1f4-cc6019a4d53b"
   },
   "outputs": [
    {
     "name": "stdout",
     "output_type": "stream",
     "text": [
      "Requirement already up-to-date: scikit-learn in /usr/local/lib/python3.6/dist-packages (0.23.1)\n",
      "Requirement already satisfied, skipping upgrade: numpy>=1.13.3 in /usr/local/lib/python3.6/dist-packages (from scikit-learn) (1.18.5)\n",
      "Requirement already satisfied, skipping upgrade: threadpoolctl>=2.0.0 in /usr/local/lib/python3.6/dist-packages (from scikit-learn) (2.1.0)\n",
      "Requirement already satisfied, skipping upgrade: scipy>=0.19.1 in /usr/local/lib/python3.6/dist-packages (from scikit-learn) (1.4.1)\n",
      "Requirement already satisfied, skipping upgrade: joblib>=0.11 in /usr/local/lib/python3.6/dist-packages (from scikit-learn) (0.16.0)\n"
     ]
    }
   ],
   "source": [
    "!pip install -U scikit-learn\n",
    "from sklearn.preprocessing import OneHotEncoder, StandardScaler\n",
    "from sklearn.compose import make_column_transformer, ColumnTransformer\n",
    "from sklearn.pipeline import Pipeline\n",
    "from sklearn.model_selection import train_test_split"
   ]
  },
  {
   "cell_type": "code",
   "execution_count": null,
   "metadata": {
    "colab": {
     "base_uri": "https://localhost:8080/",
     "height": 1000
    },
    "colab_type": "code",
    "id": "72fipfyX2Jt_",
    "outputId": "28918a38-1463-43cd-e5f1-7d65e97b6d6a"
   },
   "outputs": [
    {
     "name": "stdout",
     "output_type": "stream",
     "text": [
      "Librerías importadas\n",
      "[[-1.47367476e+00 -3.14653929e-01  2.95809050e-01 -1.43725905e-01]\n",
      " [-1.51706705e+00 -1.05677963e+00  4.37867813e-01 -3.73564401e-01]\n",
      " [ 1.86890805e+00 -8.23552665e-01 -5.21520967e-01 -1.39611916e+00]\n",
      " [ 1.78849828e+00 -5.88982912e-01 -5.07804848e-01 -1.32336767e+00]\n",
      " [ 8.60184237e-01 -5.03956039e-01  1.45090023e+00  1.45053126e+00]\n",
      " [ 1.84665866e+00 -3.79492360e-01  4.67129912e-01  2.84273230e-01]\n",
      " [-5.81142185e-01  3.55253725e-01 -1.27944581e+00  5.14190177e-01]\n",
      " [ 1.88517155e+00 -2.41990919e-01 -1.85982868e-01  1.11533383e+00]\n",
      " [-1.19970876e+00 -9.33574892e-01  4.96215010e-01 -8.77223713e-01]\n",
      " [-1.41824806e+00 -4.68503685e-03 -1.79665122e-01  2.24453516e-01]\n",
      " [-1.40539265e+00  9.09360446e-02 -7.67757866e-02  1.20505740e-01]\n",
      " [ 1.64129110e-01  2.36030394e+00 -2.01368165e+00  1.44119460e+00]\n",
      " [-1.37328592e+00  5.72059950e-01 -3.88765100e-01  4.92473299e-01]\n",
      " [ 1.89893305e+00 -9.22108137e-01  1.05879651e-01 -3.82819632e-02]\n",
      " [ 2.49279863e+00 -3.38100077e-01  2.39375372e-01  5.40917981e-01]\n",
      " [ 8.66785773e-01 -1.11240360e+00  1.94994381e+00  2.47914884e-01]\n",
      " [-1.59178011e+00 -1.45110823e-01 -1.22534486e-01  4.44818756e-01]\n",
      " [ 1.35544670e+00  7.21114615e-01 -1.19420778e+00 -1.82584892e-01]\n",
      " [ 1.09380730e+00 -1.25861577e-01  1.27612486e+00  1.01684229e+00]\n",
      " [-1.54762981e+00 -7.06215409e-01  2.23856836e-01 -5.82092404e-02]\n",
      " [ 6.93887288e-01 -5.17102847e-02 -8.67831262e-01 -6.93873995e-01]\n",
      " [ 1.07093264e+00 -2.88267176e-02 -9.16407472e-01 -4.68057132e-01]\n",
      " [ 9.36049166e-01 -1.10772607e+00  1.68556012e+00  6.89800239e-01]\n",
      " [ 1.53809596e+00  2.07401036e-01 -9.60625979e-01 -2.77430988e-01]\n",
      " [-1.39952295e+00 -1.25104886e+00  6.95121510e-01 -8.01058767e-01]\n",
      " [ 1.59662203e+00  5.13279190e-02 -8.69531364e-01 -8.89067009e-01]\n",
      " [-1.16270231e+00 -5.20251044e-01  3.63279856e-01 -7.14102185e-01]\n",
      " [-1.52033821e+00 -1.75891555e-01  2.39014398e-01 -6.41694593e-03]\n",
      " [ 1.20592449e+00 -5.26411898e-01  1.41149590e-01  6.96393616e-01]\n",
      " [ 5.50521288e-01  1.15638752e+00 -1.49827278e+00  6.04500812e-01]\n",
      " [-1.19418997e+00 -1.00371297e+00  5.39513925e-01 -9.40102212e-01]\n",
      " [-1.49922476e+00 -7.97863556e-01  4.67075922e-01 -3.71651258e-01]\n",
      " [ 1.75879165e+00 -3.43941172e-01 -6.50658457e-01 -1.09992360e+00]\n",
      " [ 1.22857506e+00  3.34600270e-01 -1.00763821e+00 -2.05268761e-01]\n",
      " [ 1.36300121e+00 -7.42952087e-01 -3.54208080e-01 -1.51361671e+00]\n",
      " [ 1.51815057e+00 -4.43204155e-01 -4.24788364e-01 -1.42455230e+00]\n",
      " [-1.48259963e+00 -6.87291558e-02  1.35570253e-01  7.29795216e-02]\n",
      " [ 1.26656864e+00 -6.50231645e-01 -6.80596071e-01 -1.01935507e+00]\n",
      " [-1.51184312e+00 -9.96669100e-01  5.71099200e-01 -5.05582105e-01]\n",
      " [ 1.82236466e+00  2.97507516e+00  2.76289880e+00 -1.58315314e+00]\n",
      " [ 3.73696682e-01 -5.33662906e-02 -5.97749687e-01 -8.97001833e-01]\n",
      " [-1.64820616e+00  9.87955867e-02 -2.43035712e-01  6.76926796e-01]\n",
      " [-1.15419629e+00 -8.36566186e-01  5.71784765e-01 -9.91760785e-01]\n",
      " [-1.52884423e+00  1.40423587e-01  3.05094893e-02  2.71241653e-01]\n",
      " [ 1.51187673e+00 -3.46739914e-01 -6.27970089e-01 -7.33585426e-01]\n",
      " [ 1.86611210e+00  1.01737386e-01  2.81183641e-01  8.96260203e-01]\n",
      " [-1.54159405e+00  4.91744692e-01 -1.98403078e-01  5.80820834e-01]\n",
      " [ 8.27163609e-01  7.09949411e-01 -1.21533916e+00 -1.95144038e-01]\n",
      " [ 4.33360569e-01  8.42193432e+00  3.74261279e+00 -1.43416023e+00]\n",
      " [-1.00065302e-01  3.62662771e-01 -1.35366413e-01  2.34194008e-01]\n",
      " [-1.62558815e+00  8.92726321e-02 -7.64398029e-02  4.78179939e-01]\n",
      " [-1.58064443e+00  9.12320836e-01 -4.53229373e-01  9.60017158e-01]\n",
      " [ 1.20220897e+00  8.31981825e-01 -1.33261397e+00 -1.18322665e-01]\n",
      " [-1.58654525e+00  4.19462107e-01 -1.12882993e-01  5.34307612e-01]\n",
      " [-1.28064686e+00 -6.42675401e-01  3.21981863e-01 -5.61378429e-01]\n",
      " [-1.67780721e+00  7.90779513e-01 -5.11912553e-01  1.10600227e+00]\n",
      " [ 1.42700062e+00  3.53379341e-01 -1.03612326e+00 -9.51737981e-02]\n",
      " [ 1.92239372e+00 -1.45025626e-01 -3.55005898e-01  1.69981221e-01]\n",
      " [-1.45245573e+00 -4.89683743e-01  3.97847342e-01 -3.03328812e-01]\n",
      " [-1.62593194e-01  2.13086987e+00 -1.00624640e+00  1.64401292e+00]\n",
      " [-1.19707162e+00 -3.10593710e-01  2.48284700e-01 -5.19690707e-01]\n",
      " [ 2.23068627e-01  4.61881227e-01 -1.03158528e-01  1.33032043e-03]\n",
      " [-1.24967271e+00 -1.72083632e-01  1.96457245e-01 -3.80456421e-01]\n",
      " [-1.52131085e+00 -1.02177367e+00  4.17460155e-01 -3.41643820e-01]\n",
      " [-1.15676467e+00 -5.19998748e-01  3.58312660e-01 -7.16027512e-01]\n",
      " [-1.57043709e+00 -1.19501667e-01  2.11701660e-02  2.77029817e-01]\n",
      " [ 1.63314475e+00 -6.37106853e-01 -4.63839764e-01 -1.05261917e+00]\n",
      " [ 1.81112437e+00  1.78033736e-01 -9.23737079e-01 -7.12254565e-01]\n",
      " [-1.35656045e+00 -1.08377593e+00  7.24908751e-01 -8.53680003e-01]\n",
      " [ 1.38352374e+00 -3.54300474e-02 -9.34845281e-01 -6.43005416e-01]\n",
      " [-4.13109692e-01 -8.31742088e-02 -8.96723688e-01 -1.43486902e-01]\n",
      " [-1.46859323e+00 -2.08879155e-01  2.19684485e-01 -5.37401407e-02]\n",
      " [ 1.41346249e+00  1.37399138e+00 -1.45295035e+00  1.44178247e-01]\n",
      " [-1.24121444e+00 -5.00254743e-01  1.93162863e-01 -4.51986707e-01]\n",
      " [ 7.14008775e-01  1.47811064e-01  1.21526810e+00  1.39705581e+00]\n",
      " [-1.48056664e+00 -1.40709155e+00  6.46911595e-01 -6.90844889e-01]\n",
      " [ 2.20863699e+00 -8.50096976e-01  5.42875044e-01  3.97237547e-01]\n",
      " [ 2.53519082e+00 -9.93710722e-01  5.89051616e-01  3.74155869e-01]\n",
      " [-1.13508996e+00 -1.11724463e+00  7.47464024e-01 -1.24231212e+00]\n",
      " [ 1.02111546e+00  1.51555824e-01 -7.33559472e-01 -4.91494144e-01]\n",
      " [ 1.71635359e+00  6.11845559e-03 -8.54735042e-01 -7.80717781e-01]\n",
      " [-1.58106329e+00  8.41930467e-01 -4.04963261e-01  8.99063985e-01]\n",
      " [ 1.97029944e+00 -1.43928230e-01  7.36919064e-01  4.70532848e-01]\n",
      " [ 3.42985627e-01  2.26481353e+00 -2.24995769e+00  1.50780898e+00]\n",
      " [ 1.88181825e+00  6.15646177e-01 -4.40727795e-01  1.95726807e+00]\n",
      " [ 8.52154075e-01  2.55206307e-01 -8.89978345e-01 -5.68979482e-01]\n",
      " [ 1.76030109e+00 -1.01867882e+00  5.54436945e-01  1.02038710e+00]\n",
      " [-1.68935830e+00  9.18185507e-01 -5.47800933e-01  1.18668125e+00]\n",
      " [-1.61628871e+00  1.15711028e+00 -5.91115786e-01  1.18538655e+00]\n",
      " [-1.67155629e+00  4.14479990e-01 -4.39122629e-01  9.59398712e-01]\n",
      " [-1.26927760e+00 -1.40580658e+00  6.54026406e-01 -1.04563110e+00]\n",
      " [-1.66643795e+00  2.76483317e-02 -1.79868011e-01  6.21749603e-01]\n",
      " [-1.20302767e+00 -6.45427889e-02  8.55623048e-02 -3.03947944e-01]\n",
      " [-1.34046806e+00  2.81480112e-01 -3.90391373e-02  4.60630973e-02]\n",
      " [-1.50943556e+00 -1.02126907e+00  4.07525762e-01 -3.45494473e-01]\n",
      " [ 1.08519711e+00 -8.00265732e-01  1.45204477e+00  1.18068913e+00]\n",
      " [ 1.30311398e+00  1.99139706e-01 -9.21129161e-01 -5.70253922e-01]\n",
      " [-1.21837782e+00 -8.28809299e-01  4.39959231e-01 -7.79536642e-01]\n",
      " [-1.21785338e+00 -3.11476744e-01  2.65669888e-01 -5.12952064e-01]\n",
      " [ 1.79732074e+00 -8.04348549e-02  3.83651491e-02  1.75476373e+00]\n",
      " [-2.06913109e-01 -6.92126417e-01 -6.89904419e-01 -8.09765434e-01]\n",
      " [ 1.81379100e+00 -6.66950974e-01  7.35825639e-01  5.46476969e-02]\n",
      " [-1.73219680e+00  9.51551549e-01 -5.35921815e-01  1.23111646e+00]]\n",
      "[1 1 0 0 0 0 1 0 1 1 1 0 1 0 0 0 1 0 0 1 0 0 0 0 1 0 1 1 0 0 1 1 0 0 0 0 1\n",
      " 0 1 0 0 1 1 1 0 0 1 0 0 0 1 1 0 1 1 1 0 0 1 0 1 0 1 1 1 1 0 0 1 0 1 1 0 1\n",
      " 0 1 0 0 1 0 0 1 0 0 0 0 0 1 1 1 1 1 1 1 1 0 0 1 1 0 1 0 1]\n"
     ]
    }
   ],
   "source": [
    "X_train, X_test, y_train, y_test = train_test_split(X, y, test_size=.2, random_state=42)\n",
    "\n",
    "#Ahora preparamos el perceptron.Importamos las neuronas simples y el modelo secuencial\n",
    "#Modelo secuencial quiere decir que agregaremos capas y se conectarán de manera automática, \n",
    "#Dense es la librería de neuronas simples.\n",
    "import keras\n",
    "from keras.layers import Dense\n",
    "from keras.models import Sequential\n",
    "from keras.models import model_from_json\n",
    "print('Librerías importadas')\n",
    "print(X_train)\n",
    "print(y_train)"
   ]
  },
  {
   "cell_type": "code",
   "execution_count": null,
   "metadata": {
    "colab": {},
    "colab_type": "code",
    "id": "3-00rXlG2TFe"
   },
   "outputs": [],
   "source": [
    "#FUNCIONES PARA GuARDAR Y CARGAR CUALQUIER MODELO\n",
    "\n",
    "#Guardar pesos y la arquitectura de la red en un archivo \n",
    "\n",
    "def guardarRNN(model,nombreArchivoModelo,nombreArchivoPesos):\n",
    "    print(\"Guardando Red Neuronal en Archivo\")  \n",
    "    # serializar modelo a JSON\n",
    "\n",
    "    # Guardar los Pesos (weights)\n",
    "    model.save_weights(nombreArchivoPesos+'.h5')\n",
    "\n",
    "    # Guardar la Arquitectura del modelo\n",
    "    with open(nombreArchivoModelo+'.json', 'w') as f:\n",
    "        f.write(model.to_json())\n",
    "\n",
    "    print(\"Red Neuronal Grabada en Archivo\")   \n",
    "    \n",
    "def cargarRNN(nombreArchivoModelo,nombreArchivoPesos):\n",
    "        \n",
    "    # Cargar la Arquitectura desde el archivo JSON\n",
    "    with open(nombreArchivoModelo+'.json', 'r') as f:\n",
    "        model = model_from_json(f.read())\n",
    "\n",
    "    # Cargar Pesos (weights) en el nuevo modelo\n",
    "    model.load_weights(nombreArchivoPesos+'.h5')  \n",
    "\n",
    "    print(\"Red Neuronal Cargada desde Archivo\") \n",
    "    return model"
   ]
  },
  {
   "cell_type": "code",
   "execution_count": null,
   "metadata": {
    "colab": {
     "base_uri": "https://localhost:8080/",
     "height": 513
    },
    "colab_type": "code",
    "id": "43ANV2AO2XkW",
    "outputId": "7c414ef4-0399-4ec9-b599-305fc158b0b5"
   },
   "outputs": [
    {
     "name": "stdout",
     "output_type": "stream",
     "text": [
      "Model: \"sequential_2\"\n",
      "_________________________________________________________________\n",
      "Layer (type)                 Output Shape              Param #   \n",
      "=================================================================\n",
      "dense_4 (Dense)              (None, 32)                160       \n",
      "_________________________________________________________________\n",
      "dense_5 (Dense)              (None, 64)                2112      \n",
      "_________________________________________________________________\n",
      "dense_6 (Dense)              (None, 1)                 65        \n",
      "=================================================================\n",
      "Total params: 2,337\n",
      "Trainable params: 2,337\n",
      "Non-trainable params: 0\n",
      "_________________________________________________________________\n",
      "Resultado en Train:\n",
      "acc: 100.00%\n",
      "Resultado en Test:\n",
      "acc: 100.00%\n",
      "Guardando Red Neuronal en Archivo\n",
      "Red Neuronal Grabada en Archivo\n",
      "Red Neuronal Cargada desde Archivo\n",
      "Resultado en Train:\n",
      "acc: 100.00%\n",
      "Resultado en Test:\n",
      "acc: 100.00%\n",
      "Tiempo final:\n",
      "1.209\n"
     ]
    }
   ],
   "source": [
    "from time import time\n",
    "start_time = time()\n",
    "#Construcción del Modelo o Arquitectura de Redes Neoronales\n",
    "model = Sequential()\n",
    "\n",
    "#La primera capa Dense recibe el numero de variables, que es la segunda dimensión de la matriz X, esto es X_train.shape[1]\n",
    "#La primera capa tiene 32 neuronas. La función de activación es la función rectificadora.\n",
    "model.add(Dense(32, input_shape=(X_train.shape[1],), activation='relu'))\n",
    "#La segunda capa tiene 64 neuronas. La función de activación es la función rectificadora.\n",
    "model.add(Dense(64, activation='relu'))\n",
    "#La capa de salida tiene 1 neurona. La capa de salida debe tener la misma dimensión como de cantidad de salidas queremos,\n",
    "#por ejemplo, en este caso la salida \"Survived\" solo requiere 0 y 1. Puesto que 0 o 1 ocupan solo un valor dentro de cada dato,\n",
    "#entonces 1 neurona es suficiente. La función de activación es sigmoide para clasificación por probabilidad.\n",
    "model.add(Dense(1, activation='sigmoid'))\n",
    "\n",
    "#Como tenemos dos posibles salidas \"0 o 1\", vamos a escoger que el error lo trate como una clasificación binaria, \n",
    "#el optimizador será nuestra función derivada que nos ayudará a determinar hacia donde mover los pesos.\n",
    "model.compile(loss='binary_crossentropy', optimizer='adadelta', metrics=['acc']) #ADADELTA: An Adaptive Learning Rate Method\n",
    "\n",
    "#imprimir arquitectura de la red\n",
    "model.summary()\n",
    "\n",
    "#Entrenamiento: \n",
    "\n",
    "#Entrenaremos por 100 epochs, el batch_size es un argumento importante, porque representa cada cuántos datos va a actualizar\n",
    "#los pesos. Este es el método del gradiente descendiente estocástico que hace el proceso más eficiente y preciso.\n",
    "model.fit(X_train, y_train, epochs=100, batch_size=64, verbose=0)\n",
    "score = model.evaluate(X_train, y_train, verbose=0)\n",
    "print('Resultado en Train:')\n",
    "print(\"%s: %.2f%%\" % (model.metrics_names[1], score[1]*100))\n",
    "\n",
    "#Fase de Testing\n",
    "score = model.evaluate(X_test, y_test, verbose=0)\n",
    "print('Resultado en Test:')\n",
    "print(\"%s: %.2f%%\" % (model.metrics_names[1], score[1]*100))\n",
    "\n",
    "#mostrar pesos de la red\n",
    "#print(model.get_weights())\n",
    "\n",
    "#Guardar pesos y la arquitectura de la red en un archivo \n",
    "\n",
    "nombreArchivoModelo='arquitectura_prueba'\n",
    "nombreArchivoPesos='pesos_prueba'\n",
    "guardarRNN(model,nombreArchivoModelo,nombreArchivoPesos)\n",
    "\n",
    "#Cargar pesos y la arquitectura\n",
    "model2=cargarRNN(nombreArchivoModelo,nombreArchivoPesos) \n",
    "\n",
    "model2.compile(loss='binary_crossentropy', optimizer='adadelta', metrics=['acc']) #ADADELTA: An Adaptive Learning Rate Method\n",
    "score = model2.evaluate(X_train, y_train, verbose=0)\n",
    "print('Resultado en Train:')\n",
    "print(\"%s: %.2f%%\" % (model2.metrics_names[1], score[1]*100))\n",
    "\n",
    "#Fase de Testing\n",
    "print('Resultado en Test:')\n",
    "score = model2.evaluate(X_test, y_test, verbose=0)\n",
    "print(\"%s: %.2f%%\" % (model2.metrics_names[1], score[1]*100))\n",
    "elapsed_time = time() - start_time\n",
    "print('Tiempo final:')\n",
    "answer = str(round(elapsed_time, 3))\n",
    "print(answer)"
   ]
  },
  {
   "cell_type": "markdown",
   "metadata": {
    "colab_type": "text",
    "id": "0Y3HN5LmBhni"
   },
   "source": [
    "\n",
    "\n",
    "> **Preprocesamiento sin PCA**\n",
    "\n"
   ]
  },
  {
   "cell_type": "code",
   "execution_count": null,
   "metadata": {
    "colab": {
     "base_uri": "https://localhost:8080/",
     "height": 495
    },
    "colab_type": "code",
    "id": "xRy8F14jO62g",
    "outputId": "87e58bf7-bf6e-4dac-cb3b-ef4cff2fd3a0"
   },
   "outputs": [
    {
     "name": "stdout",
     "output_type": "stream",
     "text": [
      "          Age       PO2  ...  History_Kidney cancer  History_None\n",
      "0    1.100406 -0.454122  ...                    0.0           0.0\n",
      "1    0.145498  1.854588  ...                    0.0           0.0\n",
      "2   -0.119754 -0.454122  ...                    0.0           0.0\n",
      "3   -0.756360 -0.454122  ...                    0.0           0.0\n",
      "4    0.198549 -0.454122  ...                    0.0           0.0\n",
      "..        ...       ...  ...                    ...           ...\n",
      "124  0.145498 -0.454122  ...                    0.0           0.0\n",
      "125  0.198549 -0.454122  ...                    0.0           0.0\n",
      "126  0.198549 -0.454122  ...                    0.0           0.0\n",
      "127 -1.021612 -0.454122  ...                    0.0           0.0\n",
      "128  0.994305 -0.454122  ...                    0.0           0.0\n",
      "\n",
      "[129 rows x 37 columns]\n",
      "0      0\n",
      "1      0\n",
      "2      0\n",
      "3      0\n",
      "4      0\n",
      "      ..\n",
      "125    1\n",
      "126    1\n",
      "127    1\n",
      "128    1\n",
      "129    1\n",
      "Name: Decisionlabel, Length: 129, dtype: int64\n"
     ]
    }
   ],
   "source": [
    "print(DatasetPreprocesado)\n",
    "#Union=pd.concat([DatasetPreprocesado,dataF['Decisionlabel']])\n",
    "#Union=pd.merge(DatasetPreprocesado, dataF['Decisionlabel'])\n",
    "#print('Union')\n",
    "#print(Union)\n",
    "print(dataF['Decisionlabel'])\n",
    "y1 = dataF.Decisionlabel.values"
   ]
  },
  {
   "cell_type": "code",
   "execution_count": null,
   "metadata": {
    "colab": {
     "base_uri": "https://localhost:8080/",
     "height": 348
    },
    "colab_type": "code",
    "id": "PM70YTKjO6nd",
    "outputId": "b33ac082-797b-49f9-c3ba-745e6c19df8f"
   },
   "outputs": [
    {
     "name": "stdout",
     "output_type": "stream",
     "text": [
      "Librerías importadas\n",
      "          Age       PO2  ...  History_Kidney cancer  History_None\n",
      "70   0.410750 -0.454122  ...                    0.0           0.0\n",
      "78   1.047356 -0.454122  ...                    0.0           0.0\n",
      "47   1.312608 -0.454122  ...                    0.0           0.0\n",
      "0    1.100406 -0.454122  ...                    0.0           0.0\n",
      "12   0.092448  1.878389  ...                    0.0           0.0\n",
      "..        ...       ...  ...                    ...           ...\n",
      "106  0.410750 -0.454122  ...                    0.0           0.0\n",
      "14  -0.703309  1.878389  ...                    0.0           0.0\n",
      "92   0.569902 -0.454122  ...                    0.0           0.0\n",
      "51   0.994305  1.545173  ...                    0.0           0.0\n",
      "102 -1.764318 -0.454122  ...                    0.0           0.0\n",
      "\n",
      "[103 rows x 37 columns]\n",
      "[1 1 0 0 0 0 1 0 1 1 1 0 1 0 0 0 1 0 0 1 0 0 0 0 1 0 1 1 0 0 1 1 0 0 0 0 1\n",
      " 0 1 0 0 1 1 1 0 0 1 0 0 0 1 1 0 1 1 1 0 0 1 0 1 0 1 1 1 1 0 0 1 0 1 1 0 1\n",
      " 0 1 0 0 1 0 0 1 0 0 0 0 0 1 1 1 1 1 1 1 1 0 0 1 1 0 1 0 1]\n"
     ]
    }
   ],
   "source": [
    "X_train, X_test, y_train, y_test = train_test_split(DatasetPreprocesado, y1, test_size=.2, random_state=42)\n",
    "\n",
    "#Ahora preparamos el perceptron.Importamos las neuronas simples y el modelo secuencial\n",
    "#Modelo secuencial quiere decir que agregaremos capas y se conectarán de manera automática, \n",
    "#Dense es la librería de neuronas simples.\n",
    "import keras\n",
    "from keras.layers import Dense\n",
    "from keras.models import Sequential\n",
    "from keras.models import model_from_json\n",
    "print('Librerías importadas')\n",
    "print(X_train)\n",
    "print(y_train)"
   ]
  },
  {
   "cell_type": "markdown",
   "metadata": {
    "colab_type": "text",
    "id": "Ux0vlcfcB6Bt"
   },
   "source": [
    "\n",
    "\n",
    "> **Red neuronal de datos sin PCA**\n",
    "\n"
   ]
  },
  {
   "cell_type": "code",
   "execution_count": null,
   "metadata": {
    "colab": {},
    "colab_type": "code",
    "id": "xFqKht4DO6X4"
   },
   "outputs": [],
   "source": [
    "#FUNCIONES PARA GuARDAR Y CARGAR CUALQUIER MODELO\n",
    "\n",
    "#Guardar pesos y la arquitectura de la red en un archivo \n",
    "\n",
    "def guardarRNN(model,nombreArchivoModelo,nombreArchivoPesos):\n",
    "    print(\"Guardando Red Neuronal en Archivo\")  \n",
    "    # serializar modelo a JSON\n",
    "\n",
    "    # Guardar los Pesos (weights)\n",
    "    model.save_weights(nombreArchivoPesos+'.h5')\n",
    "\n",
    "    # Guardar la Arquitectura del modelo\n",
    "    with open(nombreArchivoModelo+'.json', 'w') as f:\n",
    "        f.write(model.to_json())\n",
    "\n",
    "    print(\"Red Neuronal Grabada en Archivo\")   \n",
    "    \n",
    "def cargarRNN(nombreArchivoModelo,nombreArchivoPesos):\n",
    "        \n",
    "    # Cargar la Arquitectura desde el archivo JSON\n",
    "    with open(nombreArchivoModelo+'.json', 'r') as f:\n",
    "        model = model_from_json(f.read())\n",
    "\n",
    "    # Cargar Pesos (weights) en el nuevo modelo\n",
    "    model.load_weights(nombreArchivoPesos+'.h5')  \n",
    "\n",
    "    print(\"Red Neuronal Cargada desde Archivo\") \n",
    "    return model"
   ]
  },
  {
   "cell_type": "code",
   "execution_count": null,
   "metadata": {
    "colab": {
     "base_uri": "https://localhost:8080/",
     "height": 513
    },
    "colab_type": "code",
    "id": "cZ9B0nWIV8T2",
    "outputId": "47a18aaf-8be1-43f4-82d1-fde1223f7992"
   },
   "outputs": [
    {
     "name": "stdout",
     "output_type": "stream",
     "text": [
      "Model: \"sequential_5\"\n",
      "_________________________________________________________________\n",
      "Layer (type)                 Output Shape              Param #   \n",
      "=================================================================\n",
      "dense_13 (Dense)             (None, 32)                1216      \n",
      "_________________________________________________________________\n",
      "dense_14 (Dense)             (None, 64)                2112      \n",
      "_________________________________________________________________\n",
      "dense_15 (Dense)             (None, 1)                 65        \n",
      "=================================================================\n",
      "Total params: 3,393\n",
      "Trainable params: 3,393\n",
      "Non-trainable params: 0\n",
      "_________________________________________________________________\n",
      "Resultado en Train:\n",
      "acc: 100.00%\n",
      "Resultado en Test:\n",
      "acc: 100.00%\n",
      "Guardando Red Neuronal en Archivo\n",
      "Red Neuronal Grabada en Archivo\n",
      "Red Neuronal Cargada desde Archivo\n",
      "Resultado en Train:\n",
      "acc: 100.00%\n",
      "Resultado en Test:\n",
      "acc: 100.00%\n",
      "Tiempo final:\n",
      "1.213\n"
     ]
    }
   ],
   "source": [
    "from time import time\n",
    "start_time = time()\n",
    "#Construcción del Modelo o Arquitectura de Redes Neoronales\n",
    "model = Sequential()\n",
    "\n",
    "#La primera capa Dense recibe el numero de variables, que es la segunda dimensión de la matriz X, esto es X_train.shape[1]\n",
    "#La primera capa tiene 32 neuronas. La función de activación es la función rectificadora.\n",
    "model.add(Dense(32, input_shape=(X_train.shape[1],), activation='relu'))\n",
    "#La segunda capa tiene 64 neuronas. La función de activación es la función rectificadora.\n",
    "model.add(Dense(64, activation='relu'))\n",
    "#La capa de salida tiene 1 neurona. La capa de salida debe tener la misma dimensión como de cantidad de salidas queremos,\n",
    "#por ejemplo, en este caso la salida \"Survived\" solo requiere 0 y 1. Puesto que 0 o 1 ocupan solo un valor dentro de cada dato,\n",
    "#entonces 1 neurona es suficiente. La función de activación es sigmoide para clasificación por probabilidad.\n",
    "model.add(Dense(1, activation='sigmoid'))\n",
    "\n",
    "#Como tenemos dos posibles salidas \"0 o 1\", vamos a escoger que el error lo trate como una clasificación binaria, \n",
    "#el optimizador será nuestra función derivada que nos ayudará a determinar hacia donde mover los pesos.\n",
    "model.compile(loss='binary_crossentropy', optimizer='adadelta', metrics=['acc']) #ADADELTA: An Adaptive Learning Rate Method\n",
    "\n",
    "#imprimir arquitectura de la red\n",
    "model.summary()\n",
    "\n",
    "#Entrenamiento: \n",
    "\n",
    "#Entrenaremos por 100 epochs, el batch_size es un argumento importante, porque representa cada cuántos datos va a actualizar\n",
    "#los pesos. Este es el método del gradiente descendiente estocástico que hace el proceso más eficiente y preciso.\n",
    "model.fit(X_train, y_train, epochs=100, batch_size=64, verbose=0)\n",
    "score = model.evaluate(X_train, y_train, verbose=0)\n",
    "print('Resultado en Train:')\n",
    "print(\"%s: %.2f%%\" % (model.metrics_names[1], score[1]*100))\n",
    "\n",
    "#Fase de Testing\n",
    "score = model.evaluate(X_test, y_test, verbose=0)\n",
    "print('Resultado en Test:')\n",
    "print(\"%s: %.2f%%\" % (model.metrics_names[1], score[1]*100))\n",
    "\n",
    "#mostrar pesos de la red\n",
    "#print(model.get_weights())\n",
    "\n",
    "#Guardar pesos y la arquitectura de la red en un archivo \n",
    "\n",
    "nombreArchivoModelo='arquitectura_prueba'\n",
    "nombreArchivoPesos='pesos_prueba'\n",
    "guardarRNN(model,nombreArchivoModelo,nombreArchivoPesos)\n",
    "\n",
    "#Cargar pesos y la arquitectura\n",
    "model2=cargarRNN(nombreArchivoModelo,nombreArchivoPesos) \n",
    "\n",
    "model2.compile(loss='binary_crossentropy', optimizer='adadelta', metrics=['acc']) #ADADELTA: An Adaptive Learning Rate Method\n",
    "score = model2.evaluate(X_train, y_train, verbose=0)\n",
    "print('Resultado en Train:')\n",
    "print(\"%s: %.2f%%\" % (model2.metrics_names[1], score[1]*100))\n",
    "\n",
    "#Fase de Testing\n",
    "print('Resultado en Test:')\n",
    "score = model2.evaluate(X_test, y_test, verbose=0)\n",
    "print(\"%s: %.2f%%\" % (model2.metrics_names[1], score[1]*100))\n",
    "elapsed_time = time() - start_time\n",
    "print('Tiempo final:')\n",
    "answer = str(round(elapsed_time, 3))\n",
    "print(answer)"
   ]
  },
  {
   "cell_type": "code",
   "execution_count": null,
   "metadata": {
    "colab": {
     "base_uri": "https://localhost:8080/",
     "height": 110
    },
    "colab_type": "code",
    "id": "XJBAXdC-7zc3",
    "outputId": "52e275b5-fa5b-49c0-ccb8-9eb0f7a60e01"
   },
   "outputs": [
    {
     "name": "stdout",
     "output_type": "stream",
     "text": [
      "<HDF5 file \"pesos_prueba.h5\" (mode r+)>\n",
      "<HDF5 file \"pesos_prueba.h5\" (mode r+)>\n"
     ]
    },
    {
     "name": "stderr",
     "output_type": "stream",
     "text": [
      "/usr/local/lib/python3.6/dist-packages/ipykernel_launcher.py:2: H5pyDeprecationWarning: The default file mode will change to 'r' (read-only) in h5py 3.0. To suppress this warning, pass the mode you need to h5py.File(), or set the global default h5.get_config().default_file_mode, or set the environment variable H5PY_DEFAULT_READONLY=1. Available modes are: 'r', 'r+', 'w', 'w-'/'x', 'a'. See the docs for details.\n",
      "  \n"
     ]
    }
   ],
   "source": [
    "import h5py as h5\n",
    "hf1 = h5.File(\"pesos_prueba.h5\")\n",
    "print(hf1)\n",
    "myfile = h5py.File('pesos_prueba.h5','a')\n",
    "print(myfile)"
   ]
  },
  {
   "cell_type": "code",
   "execution_count": null,
   "metadata": {
    "colab": {},
    "colab_type": "code",
    "id": "AeU0-YxQ0suY"
   },
   "outputs": [],
   "source": []
  }
 ],
 "metadata": {
  "accelerator": "GPU",
  "colab": {
   "collapsed_sections": [],
   "name": "Untitled28.ipynb",
   "provenance": [],
   "toc_visible": true
  },
  "kernelspec": {
   "display_name": "Python 3",
   "language": "python",
   "name": "python3"
  },
  "language_info": {
   "codemirror_mode": {
    "name": "ipython",
    "version": 3
   },
   "file_extension": ".py",
   "mimetype": "text/x-python",
   "name": "python",
   "nbconvert_exporter": "python",
   "pygments_lexer": "ipython3",
   "version": "3.7.6"
  }
 },
 "nbformat": 4,
 "nbformat_minor": 1
}
